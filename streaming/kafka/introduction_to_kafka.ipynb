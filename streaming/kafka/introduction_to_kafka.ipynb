{
 "cells": [
  {
   "cell_type": "markdown",
   "metadata": {},
   "source": [
    "# Apache Kafka"
   ]
  },
  {
   "cell_type": "markdown",
   "metadata": {},
   "source": [
    "### Background\n",
    "\n",
    "Traditionally, data have been stored into tabular format where one table represented an object, e.g. a car, a person, etc. This method remained apt for all the use cases until recently when digital systems that produce and consume data in real-time became very popular.\n",
    "\n",
    "IoT devices are a perfect example, imagine you want to track all events from all the smart devices connected in your home for e.g. TV switched on, volume went up, temperature increased, main-door opened. \n",
    "\n",
    "Such use cases demanded the change of focus from an object towards events."
   ]
  },
  {
   "cell_type": "markdown",
   "metadata": {},
   "source": [
    "Kakfa stores log of events, as soon as they occur, in a queues that could be preserved forever and queried on demand."
   ]
  },
  {
   "cell_type": "markdown",
   "metadata": {},
   "source": [
    "### Demo"
   ]
  },
  {
   "cell_type": "markdown",
   "metadata": {},
   "source": [
    "**Installation**"
   ]
  },
  {
   "cell_type": "markdown",
   "metadata": {},
   "source": [
    "Download the setup file and unzip to a folder, lets call it kafka folder"
   ]
  },
  {
   "cell_type": "markdown",
   "metadata": {},
   "source": [
    "You can also follow detailed steps listed here - https://kafka.apache.org/quickstart"
   ]
  },
  {
   "cell_type": "markdown",
   "metadata": {},
   "source": [
    "**Step 1: Start the Kafka environment**"
   ]
  },
  {
   "cell_type": "markdown",
   "metadata": {},
   "source": [
    "Open a terminal from the kafka folder and run the following command"
   ]
  },
  {
   "cell_type": "raw",
   "metadata": {},
   "source": [
    "$ bin/zookeeper-server-start.sh config/zookeeper.properties"
   ]
  },
  {
   "cell_type": "markdown",
   "metadata": {},
   "source": [
    "Open another terminal and execute this command"
   ]
  },
  {
   "cell_type": "raw",
   "metadata": {},
   "source": [
    "$ bin/kafka-server-start.sh config/server.properties"
   ]
  },
  {
   "cell_type": "markdown",
   "metadata": {},
   "source": [
    "**Step 2: Create Kakfa Topic**"
   ]
  },
  {
   "cell_type": "markdown",
   "metadata": {},
   "source": [
    "Open a different terminal from the kafka folder and execute following command"
   ]
  },
  {
   "cell_type": "markdown",
   "metadata": {},
   "source": [
    "<img src=\"images/kafka_create_topics.png\">"
   ]
  },
  {
   "cell_type": "markdown",
   "metadata": {},
   "source": [
    "**Step 3: Initate Kafka producer and write content**"
   ]
  },
  {
   "cell_type": "markdown",
   "metadata": {},
   "source": [
    "Open another terminal from the same kafka folder and execute following command"
   ]
  },
  {
   "cell_type": "markdown",
   "metadata": {},
   "source": [
    "<img src=\"images/kafka_producer.png\"/>"
   ]
  },
  {
   "cell_type": "markdown",
   "metadata": {},
   "source": [
    "**Step 4: Consume Kafka events**"
   ]
  },
  {
   "cell_type": "markdown",
   "metadata": {},
   "source": [
    "In another terminal from the kafka folder and execute following command"
   ]
  },
  {
   "cell_type": "markdown",
   "metadata": {},
   "source": [
    "<img src=\"images/kafka_consumer.png\"/>"
   ]
  },
  {
   "cell_type": "markdown",
   "metadata": {},
   "source": [
    "**Step 5: Play**"
   ]
  },
  {
   "cell_type": "markdown",
   "metadata": {},
   "source": [
    "You can write anything in the producer console and after pressing enter, it will immediately appear in the consumer console.\n",
    "\n",
    "At anytime you want to stop the console / server, press Ctrl + C."
   ]
  },
  {
   "cell_type": "code",
   "execution_count": null,
   "metadata": {},
   "outputs": [],
   "source": []
  }
 ],
 "metadata": {
  "kernelspec": {
   "display_name": "Python 3",
   "language": "python",
   "name": "python3"
  },
  "language_info": {
   "codemirror_mode": {
    "name": "ipython",
    "version": 3
   },
   "file_extension": ".py",
   "mimetype": "text/x-python",
   "name": "python",
   "nbconvert_exporter": "python",
   "pygments_lexer": "ipython3",
   "version": "3.6.3"
  }
 },
 "nbformat": 4,
 "nbformat_minor": 2
}
