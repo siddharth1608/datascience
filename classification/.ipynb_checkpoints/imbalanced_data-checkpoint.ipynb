{
 "cells": [
  {
   "cell_type": "markdown",
   "metadata": {},
   "source": [
    "## Machine Learning Classification"
   ]
  },
  {
   "cell_type": "markdown",
   "metadata": {},
   "source": [
    "### How to handle imbalanced class problem? ###"
   ]
  },
  {
   "cell_type": "markdown",
   "metadata": {},
   "source": []
  },
  {
   "cell_type": "markdown",
   "metadata": {},
   "source": [
    "Imagine if person A visits a pathologist to test against a suspected disease and the pathologist claims that the test is 98% accurate. By that the pathologist means, for the rest 2% cases the test might incorrectly report A is affected by the disease when A isn't actually affected or it might incorrectly report that A is not affected when A is actually affected.\n",
    "\n",
    "If the disease is fatal it would be better to tested positive so that the test-taker would be more vigilant and undergo further tests, eventually knowing the truth.  Whereas if tested negative, the disease would silently aggrevate unnoticed. "
   ]
  },
  {
   "cell_type": "code",
   "execution_count": null,
   "metadata": {},
   "outputs": [],
   "source": []
  }
 ],
 "metadata": {
  "kernelspec": {
   "display_name": "Python 3",
   "language": "python",
   "name": "python3"
  },
  "language_info": {
   "codemirror_mode": {
    "name": "ipython",
    "version": 3
   },
   "file_extension": ".py",
   "mimetype": "text/x-python",
   "name": "python",
   "nbconvert_exporter": "python",
   "pygments_lexer": "ipython3",
   "version": "3.6.4"
  }
 },
 "nbformat": 4,
 "nbformat_minor": 2
}
