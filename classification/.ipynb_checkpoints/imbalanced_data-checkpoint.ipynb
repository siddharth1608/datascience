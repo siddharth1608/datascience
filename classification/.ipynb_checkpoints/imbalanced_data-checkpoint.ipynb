{
 "cells": [
  {
   "cell_type": "markdown",
   "metadata": {},
   "source": [
    "## Machine Learning Classification"
   ]
  },
  {
   "cell_type": "markdown",
   "metadata": {},
   "source": [
    "### How to handle imbalanced class problem? ###"
   ]
  },
  {
   "cell_type": "markdown",
   "metadata": {},
   "source": [
    "Imagine if person A visits a pathologist to test against a disease and the pathologist claims that the test is 98% accurate. By that the pathologist means, for the rest 2% cases the test could be incorrect - test could report A is as not having the disease when A actually is infected the disease ot it could report A is having a disease when it actually doesn't.\n",
    "\n",
    "If the disease is fatal it would be better to be declared as affected so that the test-taker would be more vigilant and undergo further tests, eventually knowing the truth.  Whereas if declared negative, the disease would silently aggrevate unnoticed. "
   ]
  },
  {
   "cell_type": "markdown",
   "metadata": {},
   "source": [
    " ### Option 1: Obtain correct representation of the original data. Use Stratified sampling ###\n",
    "\n"
   ]
  },
  {
   "cell_type": "markdown",
   "metadata": {},
   "source": [
    "It is very likely that while taking a random sample for the training data, the target classes are not true representation of the original population.\n",
    "\n",
    "Training data, assume has this distribution of labels:\n",
    "1. Positive - 400 records\n",
    "2. Negative - 100 records\n",
    "\n",
    "Ratio(Positive: Negative) = 4:1\n",
    "\n",
    "Whereas while taking a random sample of 100 records, the ratio may look like:\n",
    "\n",
    "1. Positive - 50\n",
    "2. Negative - 50\n",
    "\n",
    "Ratio(Positive: Negative) = 1:1\n",
    "\n",
    "If a model is trained on this sample, it will poorly learn the distribution of labels and predict incorrectly on unseen data. \n",
    "\n",
    "**How to overcome this?**\n",
    "\n",
    "Stratified Sampling:\n",
    "- The main idea is keep the ratio of classes same while taking random samples\n",
    "\n",
    "What do we get with Stratified Sampling?\n",
    "1. Positive - 80\n",
    "2. Negative - 20"
   ]
  },
  {
   "cell_type": "code",
   "execution_count": null,
   "metadata": {},
   "outputs": [],
   "source": [
    "import numpy as np\n",
    "from sklearn.model_selection import train_test_split\n",
    "X = []\n",
    "X, y = np.arange(10).reshape((5, 2)), range(5)"
   ]
  }
 ],
 "metadata": {
  "kernelspec": {
   "display_name": "Python 3",
   "language": "python",
   "name": "python3"
  },
  "language_info": {
   "codemirror_mode": {
    "name": "ipython",
    "version": 3
   },
   "file_extension": ".py",
   "mimetype": "text/x-python",
   "name": "python",
   "nbconvert_exporter": "python",
   "pygments_lexer": "ipython3",
   "version": "3.6.4"
  }
 },
 "nbformat": 4,
 "nbformat_minor": 2
}
