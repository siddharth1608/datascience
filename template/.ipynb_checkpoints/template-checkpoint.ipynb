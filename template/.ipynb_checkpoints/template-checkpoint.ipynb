{
 "cells": [
  {
   "cell_type": "markdown",
   "metadata": {},
   "source": [
    "## Preprocessing - Encode, Normalize features ##"
   ]
  },
  {
   "cell_type": "code",
   "execution_count": 3,
   "metadata": {},
   "outputs": [],
   "source": [
    "from sklearn import preprocessing\n",
    "from tqdm import tqdm \n",
    "\n",
    "def label_encode(values):\n",
    "    # Label Encoding Categorical columns\n",
    "    le = preprocessing.LabelEncoder()\n",
    "    le.fit(values)\n",
    "    return le.transform(values)\n",
    "\n",
    "def label_decode(values, value_to_decode):\n",
    "    # Label Encoding Categorical columns\n",
    "    le = preprocessing.LabelEncoder()    \n",
    "    le.fit(values)\n",
    "    return le.inverse_transform(value_to_decode)\n",
    "    \n",
    "def preprocess(df, columns):\n",
    "    for col in tqdm(columns):\n",
    "        \n",
    "        # Processing for String columns\n",
    "        if df[col].dtype == object: #For String columns\n",
    "            \n",
    "            # Replace NAs with ''\n",
    "            df[col] = df[col].fillna('')\n",
    "            \n",
    "            # Label Encoding Categorical columns \n",
    "            df[col] = label_encode(df[col])\n",
    "        \n",
    "        # Processing for Numeric columns\n",
    "        if (df[col].dtype == int) | (df[col].dtype == float):\n",
    "            \n",
    "            scaler = preprocessing.StandardScaler()\n",
    "            scaler.fit(df[col])\n",
    "            df[col] = scaler.fit_transform(df[col])\n",
    "        \n",
    "    return df"
   ]
  },
  {
   "cell_type": "markdown",
   "metadata": {},
   "source": [
    "## Train-Test Split ##"
   ]
  },
  {
   "cell_type": "code",
   "execution_count": 2,
   "metadata": {},
   "outputs": [],
   "source": [
    "from sklearn import model_selection\n",
    "def traintestsplit(df, features_cols, target_col, test_perc = 0.2):\n",
    "    return model_selection.train_test_split(df[features_cols], df[target_col], \\\n",
    "                                            test_size=0.33, random_state=42)"
   ]
  },
  {
   "cell_type": "code",
   "execution_count": null,
   "metadata": {},
   "outputs": [],
   "source": []
  }
 ],
 "metadata": {
  "kernelspec": {
   "display_name": "Python 3",
   "language": "python",
   "name": "python3"
  },
  "language_info": {
   "codemirror_mode": {
    "name": "ipython",
    "version": 3
   },
   "file_extension": ".py",
   "mimetype": "text/x-python",
   "name": "python",
   "nbconvert_exporter": "python",
   "pygments_lexer": "ipython3",
   "version": "3.6.4"
  }
 },
 "nbformat": 4,
 "nbformat_minor": 2
}
