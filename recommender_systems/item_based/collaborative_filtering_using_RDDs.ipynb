{
  "nbformat": 4,
  "nbformat_minor": 0,
  "metadata": {
    "colab": {
      "name": "collaborative_filtering_using_RDDs",
      "version": "0.3.2",
      "provenance": [],
      "collapsed_sections": [],
      "include_colab_link": true
    },
    "kernelspec": {
      "name": "python3",
      "display_name": "Python 3"
    }
  },
  "cells": [
    {
      "cell_type": "markdown",
      "metadata": {
        "id": "view-in-github",
        "colab_type": "text"
      },
      "source": [
        "<a href=\"https://colab.research.google.com/github/siddharth1608/datascience/blob/master/recommender_systems/item_based/collaborative_filtering_using_RDDs.ipynb\" target=\"_parent\"><img src=\"https://colab.research.google.com/assets/colab-badge.svg\" alt=\"Open In Colab\"/></a>"
      ]
    },
    {
      "cell_type": "markdown",
      "metadata": {
        "id": "S9627VJ8USHS",
        "colab_type": "text"
      },
      "source": [
        "# Recommender Systems #"
      ]
    },
    {
      "cell_type": "markdown",
      "metadata": {
        "id": "t8XsJl6zUWTD",
        "colab_type": "text"
      },
      "source": [
        "![Recommendations for shopping](https://offerzen.ghost.io/content/images/2018/08/Inner-blog-image.png)\n",
        "Image courtesy - www.offerzen.com"
      ]
    },
    {
      "cell_type": "markdown",
      "metadata": {
        "id": "2mUn2tiMDNnd",
        "colab_type": "text"
      },
      "source": [
        "## Collaborative Filtering - Item based ## \n",
        "\n",
        "#### Most popular method behind recommendation systems ####"
      ]
    },
    {
      "cell_type": "markdown",
      "metadata": {
        "id": "dXrwY0g0DQrZ",
        "colab_type": "text"
      },
      "source": [
        "Recommendation systems are broadly divided into two types\n",
        "1. Recommend me items based on what my peers have liked in the past - Collaborative filtering\n",
        "2. Recommend me items based on what I've liked in the past - Content-based filtering"
      ]
    },
    {
      "cell_type": "markdown",
      "metadata": {
        "id": "PcPIeEecDTXS",
        "colab_type": "text"
      },
      "source": [
        "In this notebook, we will implement Collaborative Filtering using Python on Movie Lens Dataset"
      ]
    },
    {
      "cell_type": "markdown",
      "metadata": {
        "id": "bTDpXIWFDbCu",
        "colab_type": "text"
      },
      "source": [
        "Let me describe, what would be my approach be like:\n",
        "\n",
        "*Inputs*\n",
        "1. User profile: Purchase history of user, preferences\n",
        "2. Item profile: Characteristics of item. for e.g. movie's genre, lead actor, etc\n",
        "3. Rating matrix: a table of user's rating for each item. this would be a sparse matrix"
      ]
    },
    {
      "cell_type": "markdown",
      "metadata": {
        "id": "5IuacTbKFQS-",
        "colab_type": "text"
      },
      "source": [
        "*Outputs*\n",
        "\n",
        "\n",
        "1.   For a given movie, Recommend Top 10 most similar movies\n"
      ]
    },
    {
      "cell_type": "markdown",
      "metadata": {
        "id": "EaNlDMVxDfhv",
        "colab_type": "text"
      },
      "source": [
        "*Steps*:\n",
        "\n",
        "\n",
        "1.   Form all pairs of movies that a user has rated. Do this for all users. We need this to calculate similarity between every 2 movies\n",
        "2.   Remove duplicate pairs, for e.g (movie1, movie2) vs (movie2, movie1)\n",
        "3.   Group all the ratings given to each pair e.g. (movie1, movie2): (3,4), (4,5), (2,4) and so on\n",
        "4.   For each pair, use the ratings aggregated in previous step to calculate cosine similarity using the following equation:\n",
        "\n",
        "> > $ sim(itemA, itemB) = \\frac{\\sum(ratings for  item A)  \\sum(ratings for  item B) }{\\sqrt(\\sum((ratings for item A)^2)) \\sqrt(\\sum((ratings for item B)^2))}$\n",
        "\n",
        "> > $ sim(item A, item B) $ falls in the range 0-1, closer to 1 indicates higher similarity\n",
        "\n",
        "\n",
        "\n",
        "\n",
        "5.  As the final step, for a given test movie, we lookup 10 movies that form a good pair with the given movie with higher similarity scores. We also choose a co-occurence threshold(co-occurence is nothing but the how many users rated for a given pair). By choosing Higher co-occurence threshold, we can claim to be more confident about our rankings.\n",
        " \n",
        "\n",
        "\n",
        "\n",
        "\n",
        "\n",
        "\n"
      ]
    },
    {
      "cell_type": "code",
      "metadata": {
        "id": "fqxBF16FxlWu",
        "colab_type": "code",
        "colab": {}
      },
      "source": [
        "import pandas as pd\n",
        "import numpy as np\n",
        "from tqdm import tqdm\n",
        "import sys\n",
        "import pprint\n",
        "np.seed = 24\n",
        "seed = 24\n",
        "\n",
        "pp = pprint.PrettyPrinter(depth=4)\n"
      ],
      "execution_count": 0,
      "outputs": []
    },
    {
      "cell_type": "code",
      "metadata": {
        "id": "m9LD3ae22A1c",
        "colab_type": "code",
        "outputId": "ce81f403-2ed4-4689-98ce-b8ccea14c065",
        "colab": {
          "base_uri": "https://localhost:8080/",
          "height": 241
        }
      },
      "source": [
        "# Spark Way\n",
        "\n",
        "## Uncomment below line to install pyspark\n",
        "!pip install pyspark\n",
        "from pyspark.sql import SparkSession\n",
        "\n"
      ],
      "execution_count": 0,
      "outputs": [
        {
          "output_type": "stream",
          "text": [
            "Collecting pyspark\n",
            "\u001b[?25l  Downloading https://files.pythonhosted.org/packages/ef/88/8e5f4cfb99a4186b4b7f06aa1294353e0be6b05b25802a82f3d16cb30b79/pyspark-2.4.2.tar.gz (193.9MB)\n",
            "\u001b[K     |████████████████████████████████| 193.9MB 52kB/s \n",
            "\u001b[?25hCollecting py4j==0.10.7 (from pyspark)\n",
            "\u001b[?25l  Downloading https://files.pythonhosted.org/packages/e3/53/c737818eb9a7dc32a7cd4f1396e787bd94200c3997c72c1dbe028587bd76/py4j-0.10.7-py2.py3-none-any.whl (197kB)\n",
            "\u001b[K     |████████████████████████████████| 204kB 44.4MB/s \n",
            "\u001b[?25hBuilding wheels for collected packages: pyspark\n",
            "  Building wheel for pyspark (setup.py) ... \u001b[?25l\u001b[?25hdone\n",
            "  Stored in directory: /root/.cache/pip/wheels/dc/0e/02/e9fdf0bf3ad20284175307d4ab31afcf967604f25f3b4f1d96\n",
            "Successfully built pyspark\n",
            "Installing collected packages: py4j, pyspark\n",
            "Successfully installed py4j-0.10.7 pyspark-2.4.2\n"
          ],
          "name": "stdout"
        }
      ]
    },
    {
      "cell_type": "code",
      "metadata": {
        "id": "HQEPSguwsMdp",
        "colab_type": "code",
        "colab": {}
      },
      "source": [
        "spark = SparkSession \\\n",
        "    .builder \\\n",
        "    .appName(\"Collaborative filtering - Item based\") \\\n",
        "    .getOrCreate()\n",
        "\n",
        "sc = spark.sparkContext"
      ],
      "execution_count": 0,
      "outputs": []
    },
    {
      "cell_type": "markdown",
      "metadata": {
        "id": "Ke9RnethC6mE",
        "colab_type": "text"
      },
      "source": [
        "**Step1** : First let's create a dictionary of all the movie ids with their respective names"
      ]
    },
    {
      "cell_type": "code",
      "metadata": {
        "id": "C1zB9K5wwXH2",
        "colab_type": "code",
        "colab": {}
      },
      "source": [
        "movieNames = pd.read_csv('u.item',sep=\"|\", encoding='latin', header=None, index_col=0, usecols=[0,1], names=['id','name'])\n",
        "movieNamesDict = movieNames.to_dict()\n",
        "movieNamesDict['name'][51]"
      ],
      "execution_count": 0,
      "outputs": []
    },
    {
      "cell_type": "markdown",
      "metadata": {
        "id": "zFr2AxOTDE6R",
        "colab_type": "text"
      },
      "source": [
        "We will use the below map function in the preceeding code to convert movies from ids to names. for now assume it will receive a movie pair of ids and return pair with names"
      ]
    },
    {
      "cell_type": "code",
      "metadata": {
        "id": "JfKN77At9Wu5",
        "colab_type": "code",
        "colab": {}
      },
      "source": [
        "def deriveMovieNames(x):\n",
        "  movieId1 = x[1][0]\n",
        "  movieId2 = x[1][1]\n",
        "  \n",
        "  return (x[0], movieNamesDict['name'][movieId1], movieNamesDict['name'][movieId2])"
      ],
      "execution_count": 0,
      "outputs": []
    },
    {
      "cell_type": "markdown",
      "metadata": {
        "id": "UC3YUDRgDfGP",
        "colab_type": "text"
      },
      "source": [
        "Time to read the actual ratings file, in the user-item rating world, it is also called as Utility matrix."
      ]
    },
    {
      "cell_type": "code",
      "metadata": {
        "id": "O8r3wAG5tRbJ",
        "colab_type": "code",
        "colab": {}
      },
      "source": [
        "reviews_raw = sc.textFile('u.data')"
      ],
      "execution_count": 0,
      "outputs": []
    },
    {
      "cell_type": "markdown",
      "metadata": {
        "id": "kZpHKKUwtoEH",
        "colab_type": "text"
      },
      "source": [
        "Next we map our data file into structure with user_id as key and (movie, rating) pair as a value"
      ]
    },
    {
      "cell_type": "code",
      "metadata": {
        "id": "hVWthgj9t0Fp",
        "colab_type": "code",
        "colab": {}
      },
      "source": [
        "reviews = reviews_raw.map(lambda x: x.split()).map(lambda m: (m[0],(int(m[1]),float(m[2]))))"
      ],
      "execution_count": 0,
      "outputs": []
    },
    {
      "cell_type": "code",
      "metadata": {
        "id": "QULMrkKouT5h",
        "colab_type": "code",
        "outputId": "bfdcd231-d373-4852-e9ff-49d13c609f01",
        "colab": {
          "base_uri": "https://localhost:8080/",
          "height": 34
        }
      },
      "source": [
        "#reviews.take(2)"
      ],
      "execution_count": 0,
      "outputs": [
        {
          "output_type": "execute_result",
          "data": {
            "text/plain": [
              "[('196', (242, 3.0)), ('186', (302, 3.0))]"
            ]
          },
          "metadata": {
            "tags": []
          },
          "execution_count": 8
        }
      ]
    },
    {
      "cell_type": "markdown",
      "metadata": {
        "id": "ztR56czkD87z",
        "colab_type": "text"
      },
      "source": [
        "For following few lines of statements, our focus will be to form all the pairs of movies that were rated by the same user"
      ]
    },
    {
      "cell_type": "code",
      "metadata": {
        "id": "ooZk2MS6uYKL",
        "colab_type": "code",
        "colab": {}
      },
      "source": [
        "reviews_pairs_by_user = reviews.join(reviews)\n",
        "reviews_pairs_by_user = reviews_pairs_by_user.cache()"
      ],
      "execution_count": 0,
      "outputs": []
    },
    {
      "cell_type": "code",
      "metadata": {
        "id": "RTtZvQDxun4_",
        "colab_type": "code",
        "outputId": "05caf494-88a1-4ab1-b44b-dff00048d05f",
        "colab": {
          "base_uri": "https://localhost:8080/",
          "height": 34
        }
      },
      "source": [
        "reviews_pairs_by_user.take(2)"
      ],
      "execution_count": 0,
      "outputs": [
        {
          "output_type": "execute_result",
          "data": {
            "text/plain": [
              "[('244', ((51, 2.0), (51, 2.0))), ('244', ((51, 2.0), (815, 4.0)))]"
            ]
          },
          "metadata": {
            "tags": []
          },
          "execution_count": 10
        }
      ]
    },
    {
      "cell_type": "markdown",
      "metadata": {
        "id": "q6KJZedGVHe4",
        "colab_type": "text"
      },
      "source": [
        "As seen, we have duplicate pairs due to self join operation. We will get rid of such pairs by \n",
        "only keeping pairs when the absolute value of first movie is less than second"
      ]
    },
    {
      "cell_type": "code",
      "metadata": {
        "id": "1ja-SZ9Run-O",
        "colab_type": "code",
        "colab": {}
      },
      "source": [
        "def deDuplicate( item ):\n",
        "  (user, ratings) = item\n",
        "  movie1 = ratings[0][0]\n",
        "  movie2 = ratings[1][0]\n",
        "  return movie1 < movie2\n",
        "\n",
        "unique_reviews_pairs_by_user = reviews_pairs_by_user.filter(deDuplicate)\n",
        "unique_reviews_pairs_by_user = unique_reviews_pairs_by_user.cache()"
      ],
      "execution_count": 0,
      "outputs": []
    },
    {
      "cell_type": "code",
      "metadata": {
        "id": "qbcL2ckuuoEf",
        "colab_type": "code",
        "outputId": "ce54ee56-c961-4f9e-8760-a70d0b21b548",
        "colab": {
          "base_uri": "https://localhost:8080/",
          "height": 34
        }
      },
      "source": [
        "unique_reviews_pairs_by_user.take(2)"
      ],
      "execution_count": 0,
      "outputs": [
        {
          "output_type": "execute_result",
          "data": {
            "text/plain": [
              "[('244', ((51, 2.0), (815, 4.0))), ('244', ((51, 2.0), (756, 2.0)))]"
            ]
          },
          "metadata": {
            "tags": []
          },
          "execution_count": 18
        }
      ]
    },
    {
      "cell_type": "markdown",
      "metadata": {
        "id": "fZRXLb9WzuS5",
        "colab_type": "text"
      },
      "source": [
        "So far, we have obtained an RDD of type \n",
        "> $ user => ((movie1, rating1),(movie2, rating2) $. \n",
        "\n",
        "Next, in order to prepare to compute similarity, we will transfrom our RDD into the form\n",
        "\n",
        "> $ (movie1, movie2) => (rating1, rating2) $"
      ]
    },
    {
      "cell_type": "code",
      "metadata": {
        "id": "lGH4zsxRwWx6",
        "colab_type": "code",
        "colab": {}
      },
      "source": [
        "def makeMoviePairAsKey( item ):\n",
        "  (user, ratings) = item\n",
        "  movie1 = ratings[0][0]\n",
        "  movie2 = ratings[1][0]\n",
        "  rating1 = ratings[0][1]\n",
        "  rating2 = ratings[1][1]\n",
        "  \n",
        "  \n",
        "  \n",
        "  \n",
        "  return ((movie1, movie2), (rating1, rating2))\n",
        "\n",
        "reviews_by_movies_pairs = unique_reviews_pairs_by_user.map(makeMoviePairAsKey)\n",
        "reviews_by_movies_pairs = reviews_by_movies_pairs.cache()"
      ],
      "execution_count": 0,
      "outputs": []
    },
    {
      "cell_type": "code",
      "metadata": {
        "id": "v5StaTakwW8_",
        "colab_type": "code",
        "outputId": "929598c5-129b-456c-fc58-f927b48310cd",
        "colab": {
          "base_uri": "https://localhost:8080/",
          "height": 34
        }
      },
      "source": [
        "reviews_by_movies_pairs.take(2)"
      ],
      "execution_count": 0,
      "outputs": [
        {
          "output_type": "execute_result",
          "data": {
            "text/plain": [
              "[((51, 815), (2.0, 4.0)), ((51, 756), (2.0, 2.0))]"
            ]
          },
          "metadata": {
            "tags": []
          },
          "execution_count": 29
        }
      ]
    },
    {
      "cell_type": "markdown",
      "metadata": {
        "id": "-CEaU3Wh16bD",
        "colab_type": "text"
      },
      "source": [
        "We are pretty close to recommending movies. Next, we will aggregate all the ratings, a movie pair has received. Our RDD will look like this \n",
        "> > $(movie1, movie2) =>  [(rating1, rating2), (rating3, rating4), (rating3, rating4)]$"
      ]
    },
    {
      "cell_type": "code",
      "metadata": {
        "id": "Qa1TbcFvwXBE",
        "colab_type": "code",
        "colab": {}
      },
      "source": [
        "reviews_grpd_by_movies_pairs = reviews_by_movies_pairs.groupByKey()\n",
        "reviews_grpd_by_movies_pairs = reviews_grpd_by_movies_pairs.cache()"
      ],
      "execution_count": 0,
      "outputs": []
    },
    {
      "cell_type": "code",
      "metadata": {
        "id": "6tgL_1o6wXE6",
        "colab_type": "code",
        "outputId": "b07f1558-81da-4771-bbbd-282277325fe3",
        "colab": {
          "base_uri": "https://localhost:8080/",
          "height": 34
        }
      },
      "source": [
        "reviews_grpd_by_movies_pairs.take(1)"
      ],
      "execution_count": 0,
      "outputs": [
        {
          "output_type": "execute_result",
          "data": {
            "text/plain": [
              "[((51, 815), <pyspark.resultiterable.ResultIterable at 0x7f57da6eeac8>)]"
            ]
          },
          "metadata": {
            "tags": []
          },
          "execution_count": 32
        }
      ]
    },
    {
      "cell_type": "markdown",
      "metadata": {
        "id": "9J1wbNuH2uCu",
        "colab_type": "text"
      },
      "source": [
        "Great, we are almost der! Next, we will apply cosine similarity over all the ratings a pair has received. Technically this means we will apply a map operation to collection of values per movie pair.\n",
        "\n",
        "This can be done by using [mapValues()](http://spark.apache.org/docs/latest/api/python/pyspark.html?highlight=mapvalues#pyspark.RDD.mapValues) function of PySpark API"
      ]
    },
    {
      "cell_type": "code",
      "metadata": {
        "id": "FaCUR5Z31Hc5",
        "colab_type": "code",
        "colab": {}
      },
      "source": [
        "import math\n",
        "def cosine_similarity(ratingPairs):\n",
        "  \n",
        "  sumX2 = 0\n",
        "  sumY2 = 0\n",
        "  sumXY = 0\n",
        "  pairsCount = 0\n",
        "  for x, y in ratingPairs:\n",
        "    sumX2 += x * x\n",
        "    sumY2 += y * y\n",
        "    sumXY += x * y\n",
        "    pairsCount += 1\n",
        "  \n",
        "  return ( sumXY / (math.sqrt(sumX2) * math.sqrt(sumY2) ),  pairsCount)"
      ],
      "execution_count": 0,
      "outputs": []
    },
    {
      "cell_type": "code",
      "metadata": {
        "id": "WnDitNYH1HkA",
        "colab_type": "code",
        "colab": {}
      },
      "source": [
        "moviePairSimilarities = reviews_grpd_by_movies_pairs.mapValues(cosine_similarity).cache()"
      ],
      "execution_count": 0,
      "outputs": []
    },
    {
      "cell_type": "markdown",
      "metadata": {
        "id": "fL0GXKkT3ybY",
        "colab_type": "text"
      },
      "source": [
        "We are done with the most computation intesive operations, i,e to obtain the similarity matrix. We can save it offline and load at the time of making predictions. \n",
        "\n",
        "Pleace uncomment the below cell to save the similarity matrix to disk."
      ]
    },
    {
      "cell_type": "code",
      "metadata": {
        "id": "G1rW8WI31HnL",
        "colab_type": "code",
        "colab": {}
      },
      "source": [
        "# Save the results if desired \n",
        "# moviePairSimilarities.sortByKey() \n",
        "# moviePairSimilarities.saveAsTextFile(\"movie-sims\") "
      ],
      "execution_count": 0,
      "outputs": []
    },
    {
      "cell_type": "markdown",
      "metadata": {
        "id": "EbO2BRe_3Cnb",
        "colab_type": "text"
      },
      "source": [
        "**Show Time !!!** Find the  Top 10 most similar movies\n",
        "\n",
        "We are using *Three Colors: Red (1994)* as test movie. Let's see which are most similar movies"
      ]
    },
    {
      "cell_type": "code",
      "metadata": {
        "id": "2Q1xkX7f3hJX",
        "colab_type": "code",
        "colab": {}
      },
      "source": [
        "movie = 60\n",
        "similarityThreshold = 0.90\n",
        "coOccurenceThreshold = 20"
      ],
      "execution_count": 0,
      "outputs": []
    },
    {
      "cell_type": "code",
      "metadata": {
        "id": "18MquO081Hsb",
        "colab_type": "code",
        "colab": {}
      },
      "source": [
        "results = moviePairSimilarities.filter(lambda x: ((x[0][0] == movie) or (x[0][1] == movie)) \\\n",
        "                            and (x[1][0] > similarityThreshold)  and (x[1][1] > coOccurenceThreshold ) \n",
        "                            )"
      ],
      "execution_count": 0,
      "outputs": []
    },
    {
      "cell_type": "code",
      "metadata": {
        "id": "K43x4Stp1HqQ",
        "colab_type": "code",
        "outputId": "7da66f20-608c-4ef7-8e83-039806c3f5fa",
        "colab": {
          "base_uri": "https://localhost:8080/",
          "height": 391
        }
      },
      "source": [
        "pp.pprint(results.map(lambda x: (x[1], x[0]) ).sortByKey(ascending=False).map(deriveMovieNames).take(10))"
      ],
      "execution_count": 0,
      "outputs": [
        {
          "output_type": "stream",
          "text": [
            "[((0.9869656221961467, 55),\n",
            "  'Three Colors: Red (1994)',\n",
            "  'Three Colors: Blue (1993)'),\n",
            " ((0.985960931836453, 31), 'Three Colors: Blue (1993)', 'Henry V (1989)'),\n",
            " ((0.982611776170406, 45),\n",
            "  'Three Colors: Blue (1993)',\n",
            "  'Three Colors: White (1994)'),\n",
            " ((0.9797996983004086, 22),\n",
            "  'Three Colors: Blue (1993)',\n",
            "  'Manon of the Spring (Manon des sources) (1986)'),\n",
            " ((0.9791633088404823, 21),\n",
            "  'Three Colors: Blue (1993)',\n",
            "  'Jean de Florette (1986)'),\n",
            " ((0.9782308349399984, 39),\n",
            "  'Three Colors: Blue (1993)',\n",
            "  'Nikita (La Femme Nikita) (1990)'),\n",
            " ((0.9774049313180511, 22),\n",
            "  'Three Colors: Blue (1993)',\n",
            "  'Sex, Lies, and Videotape (1989)'),\n",
            " ((0.976513770199478, 28), 'Three Colors: Blue (1993)', 'Big Night (1996)'),\n",
            " ((0.9752943944662508, 29), 'Three Colors: Blue (1993)', 'Chinatown (1974)'),\n",
            " ((0.9744415217567001, 24), 'Three Colors: Blue (1993)', 'True Romance (1993)')]\n"
          ],
          "name": "stdout"
        }
      ]
    },
    {
      "cell_type": "markdown",
      "metadata": {
        "id": "ks4nkrA64dV5",
        "colab_type": "text"
      },
      "source": [
        "Results are not too bad. The first and third recommendations are indeed from the same series. "
      ]
    },
    {
      "cell_type": "markdown",
      "metadata": {
        "id": "101h_qYg5Qpm",
        "colab_type": "text"
      },
      "source": [
        "Takeaways\n",
        "\n",
        "\n",
        "1.   Item based is preferred over user based because the product catalog is highly static as compared to the user catalog. Imagine Amazon, Flipkart, where thousands of users are added daily as opposed to few hundreds items.\n",
        "2.   Similarity item matrix can be generated offline and easily updated with the new ratings\n",
        "3.   Online computation only is a lookup operation into the similarity matrix. So it is faster to serve in production\n",
        "\n",
        "\n"
      ]
    },
    {
      "cell_type": "markdown",
      "metadata": {
        "id": "WjL-cl5j4rrj",
        "colab_type": "text"
      },
      "source": [
        "Improvements of the model:\n",
        "\n",
        "\n",
        "1.   Use movie features such as genre, director into training of similarity\n",
        "2.   Handle cold start users(users who have just started seeing movies) and cold start movies (new movies with very few ratings)\n",
        "\n"
      ]
    },
    {
      "cell_type": "code",
      "metadata": {
        "id": "kXizFnPq5Njr",
        "colab_type": "code",
        "colab": {}
      },
      "source": [
        ""
      ],
      "execution_count": 0,
      "outputs": []
    }
  ]
}