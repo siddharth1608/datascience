{
  "nbformat": 4,
  "nbformat_minor": 0,
  "metadata": {
    "colab": {
      "name": "collaborative_filtering_using_RDDs",
      "version": "0.3.2",
      "provenance": [],
      "collapsed_sections": [],
      "include_colab_link": true
    },
    "kernelspec": {
      "name": "python3",
      "display_name": "Python 3"
    }
  },
  "cells": [
    {
      "cell_type": "markdown",
      "metadata": {
        "id": "view-in-github",
        "colab_type": "text"
      },
      "source": [
        "<a href=\"https://colab.research.google.com/github/siddharth1608/datascience/blob/master/recommender_systems/item_based/collaborative_filtering_using_RDDs.ipynb\" target=\"_parent\"><img src=\"https://colab.research.google.com/assets/colab-badge.svg\" alt=\"Open In Colab\"/></a>"
      ]
    },
    {
      "cell_type": "code",
      "metadata": {
        "id": "fqxBF16FxlWu",
        "colab_type": "code",
        "colab": {}
      },
      "source": [
        "import pandas as pd\n",
        "import numpy as np\n",
        "from tqdm import tqdm\n",
        "import sys\n",
        "import pprint\n",
        "np.seed = 24\n",
        "seed = 24\n",
        "\n",
        "pp = pprint.PrettyPrinter(depth=4)\n"
      ],
      "execution_count": 0,
      "outputs": []
    },
    {
      "cell_type": "code",
      "metadata": {
        "id": "m9LD3ae22A1c",
        "colab_type": "code",
        "outputId": "ce81f403-2ed4-4689-98ce-b8ccea14c065",
        "colab": {
          "base_uri": "https://localhost:8080/",
          "height": 241
        }
      },
      "source": [
        "# Spark Way\n",
        "\n",
        "## Uncomment below line to install pyspark\n",
        "!pip install pyspark\n",
        "from pyspark.sql import SparkSession\n",
        "\n"
      ],
      "execution_count": 2,
      "outputs": [
        {
          "output_type": "stream",
          "text": [
            "Collecting pyspark\n",
            "\u001b[?25l  Downloading https://files.pythonhosted.org/packages/ef/88/8e5f4cfb99a4186b4b7f06aa1294353e0be6b05b25802a82f3d16cb30b79/pyspark-2.4.2.tar.gz (193.9MB)\n",
            "\u001b[K     |████████████████████████████████| 193.9MB 52kB/s \n",
            "\u001b[?25hCollecting py4j==0.10.7 (from pyspark)\n",
            "\u001b[?25l  Downloading https://files.pythonhosted.org/packages/e3/53/c737818eb9a7dc32a7cd4f1396e787bd94200c3997c72c1dbe028587bd76/py4j-0.10.7-py2.py3-none-any.whl (197kB)\n",
            "\u001b[K     |████████████████████████████████| 204kB 44.4MB/s \n",
            "\u001b[?25hBuilding wheels for collected packages: pyspark\n",
            "  Building wheel for pyspark (setup.py) ... \u001b[?25l\u001b[?25hdone\n",
            "  Stored in directory: /root/.cache/pip/wheels/dc/0e/02/e9fdf0bf3ad20284175307d4ab31afcf967604f25f3b4f1d96\n",
            "Successfully built pyspark\n",
            "Installing collected packages: py4j, pyspark\n",
            "Successfully installed py4j-0.10.7 pyspark-2.4.2\n"
          ],
          "name": "stdout"
        }
      ]
    },
    {
      "cell_type": "code",
      "metadata": {
        "id": "HQEPSguwsMdp",
        "colab_type": "code",
        "colab": {}
      },
      "source": [
        "spark = SparkSession \\\n",
        "    .builder \\\n",
        "    .appName(\"Collaborative filtering - Item based\") \\\n",
        "    .getOrCreate()\n",
        "\n",
        "sc = spark.sparkContext"
      ],
      "execution_count": 0,
      "outputs": []
    },
    {
      "cell_type": "code",
      "metadata": {
        "id": "C1zB9K5wwXH2",
        "colab_type": "code",
        "colab": {}
      },
      "source": [
        "movieNames = pd.read_csv('u.item',sep=\"|\", encoding='latin', header=None, index_col=0, usecols=[0,1], names=['id','name'])\n",
        "movieNamesDict = movieNames.to_dict()\n",
        "movieNamesDict['name'][51]"
      ],
      "execution_count": 0,
      "outputs": []
    },
    {
      "cell_type": "code",
      "metadata": {
        "id": "JfKN77At9Wu5",
        "colab_type": "code",
        "colab": {}
      },
      "source": [
        "def deriveMovieNames(x):\n",
        "  movieId1 = x[1][0]\n",
        "  movieId2 = x[1][1]\n",
        "  \n",
        "  return (x[0], movieNamesDict['name'][movieId1], movieNamesDict['name'][movieId2])"
      ],
      "execution_count": 0,
      "outputs": []
    },
    {
      "cell_type": "code",
      "metadata": {
        "id": "O8r3wAG5tRbJ",
        "colab_type": "code",
        "colab": {}
      },
      "source": [
        "reviews_raw = sc.textFile('u.data')"
      ],
      "execution_count": 0,
      "outputs": []
    },
    {
      "cell_type": "markdown",
      "metadata": {
        "id": "kZpHKKUwtoEH",
        "colab_type": "text"
      },
      "source": [
        "Next we map our data file into something with user_id as key and (movie, rating) pair as a value"
      ]
    },
    {
      "cell_type": "code",
      "metadata": {
        "id": "hVWthgj9t0Fp",
        "colab_type": "code",
        "colab": {}
      },
      "source": [
        "reviews = reviews_raw.map(lambda x: x.split()).map(lambda m: (m[0],(int(m[1]),float(m[2]))))"
      ],
      "execution_count": 0,
      "outputs": []
    },
    {
      "cell_type": "code",
      "metadata": {
        "id": "QULMrkKouT5h",
        "colab_type": "code",
        "colab": {
          "base_uri": "https://localhost:8080/",
          "height": 34
        },
        "outputId": "bfdcd231-d373-4852-e9ff-49d13c609f01"
      },
      "source": [
        "#reviews.take(2)"
      ],
      "execution_count": 8,
      "outputs": [
        {
          "output_type": "execute_result",
          "data": {
            "text/plain": [
              "[('196', (242, 3.0)), ('186', (302, 3.0))]"
            ]
          },
          "metadata": {
            "tags": []
          },
          "execution_count": 8
        }
      ]
    },
    {
      "cell_type": "code",
      "metadata": {
        "id": "ooZk2MS6uYKL",
        "colab_type": "code",
        "colab": {}
      },
      "source": [
        "reviews_pairs_by_user = reviews.join(reviews)\n",
        "reviews_pairs_by_user = reviews_pairs_by_user.cache()"
      ],
      "execution_count": 0,
      "outputs": []
    },
    {
      "cell_type": "code",
      "metadata": {
        "id": "RTtZvQDxun4_",
        "colab_type": "code",
        "colab": {
          "base_uri": "https://localhost:8080/",
          "height": 34
        },
        "outputId": "05caf494-88a1-4ab1-b44b-dff00048d05f"
      },
      "source": [
        "reviews_pairs_by_user.take(2)"
      ],
      "execution_count": 10,
      "outputs": [
        {
          "output_type": "execute_result",
          "data": {
            "text/plain": [
              "[('244', ((51, 2.0), (51, 2.0))), ('244', ((51, 2.0), (815, 4.0)))]"
            ]
          },
          "metadata": {
            "tags": []
          },
          "execution_count": 10
        }
      ]
    },
    {
      "cell_type": "code",
      "metadata": {
        "id": "1ja-SZ9Run-O",
        "colab_type": "code",
        "colab": {}
      },
      "source": [
        "def deDuplicate( item ):\n",
        "  (user, ratings) = item\n",
        "  movie1 = ratings[0][0]\n",
        "  movie2 = ratings[1][0]\n",
        "  return movie1 < movie2\n",
        "\n",
        "unique_reviews_pairs_by_user = reviews_pairs_by_user.filter(deDuplicate)\n",
        "unique_reviews_pairs_by_user = unique_reviews_pairs_by_user.cache()"
      ],
      "execution_count": 0,
      "outputs": []
    },
    {
      "cell_type": "code",
      "metadata": {
        "id": "qbcL2ckuuoEf",
        "colab_type": "code",
        "colab": {
          "base_uri": "https://localhost:8080/",
          "height": 34
        },
        "outputId": "ce54ee56-c961-4f9e-8760-a70d0b21b548"
      },
      "source": [
        "unique_reviews_pairs_by_user.take(2)"
      ],
      "execution_count": 18,
      "outputs": [
        {
          "output_type": "execute_result",
          "data": {
            "text/plain": [
              "[('244', ((51, 2.0), (815, 4.0))), ('244', ((51, 2.0), (756, 2.0)))]"
            ]
          },
          "metadata": {
            "tags": []
          },
          "execution_count": 18
        }
      ]
    },
    {
      "cell_type": "code",
      "metadata": {
        "id": "lGH4zsxRwWx6",
        "colab_type": "code",
        "colab": {}
      },
      "source": [
        "def makeMoviePairAsKey( item ):\n",
        "  (user, ratings) = item\n",
        "  movie1 = ratings[0][0]\n",
        "  movie2 = ratings[1][0]\n",
        "  rating1 = ratings[0][1]\n",
        "  rating2 = ratings[1][1]\n",
        "  \n",
        "  \n",
        "  \n",
        "  \n",
        "  return ((movie1, movie2), (rating1, rating2))\n",
        "\n",
        "reviews_by_movies_pairs = unique_reviews_pairs_by_user.map(makeMoviePairAsKey)\n",
        "reviews_by_movies_pairs = reviews_by_movies_pairs.cache()"
      ],
      "execution_count": 0,
      "outputs": []
    },
    {
      "cell_type": "code",
      "metadata": {
        "id": "v5StaTakwW8_",
        "colab_type": "code",
        "colab": {
          "base_uri": "https://localhost:8080/",
          "height": 34
        },
        "outputId": "929598c5-129b-456c-fc58-f927b48310cd"
      },
      "source": [
        "reviews_by_movies_pairs.take(2)"
      ],
      "execution_count": 29,
      "outputs": [
        {
          "output_type": "execute_result",
          "data": {
            "text/plain": [
              "[((51, 815), (2.0, 4.0)), ((51, 756), (2.0, 2.0))]"
            ]
          },
          "metadata": {
            "tags": []
          },
          "execution_count": 29
        }
      ]
    },
    {
      "cell_type": "code",
      "metadata": {
        "id": "Qa1TbcFvwXBE",
        "colab_type": "code",
        "colab": {}
      },
      "source": [
        "reviews_grpd_by_movies_pairs = reviews_by_movies_pairs.groupByKey()\n",
        "reviews_grpd_by_movies_pairs = reviews_grpd_by_movies_pairs.cache()"
      ],
      "execution_count": 0,
      "outputs": []
    },
    {
      "cell_type": "code",
      "metadata": {
        "id": "6tgL_1o6wXE6",
        "colab_type": "code",
        "colab": {
          "base_uri": "https://localhost:8080/",
          "height": 34
        },
        "outputId": "b07f1558-81da-4771-bbbd-282277325fe3"
      },
      "source": [
        "reviews_grpd_by_movies_pairs.take(1)"
      ],
      "execution_count": 32,
      "outputs": [
        {
          "output_type": "execute_result",
          "data": {
            "text/plain": [
              "[((51, 815), <pyspark.resultiterable.ResultIterable at 0x7f57da6eeac8>)]"
            ]
          },
          "metadata": {
            "tags": []
          },
          "execution_count": 32
        }
      ]
    },
    {
      "cell_type": "code",
      "metadata": {
        "id": "FaCUR5Z31Hc5",
        "colab_type": "code",
        "colab": {}
      },
      "source": [
        "import math\n",
        "def cosine_similarity(ratingPairs):\n",
        "  \n",
        "  sumX2 = 0\n",
        "  sumY2 = 0\n",
        "  sumXY = 0\n",
        "  pairsCount = 0\n",
        "  for x, y in ratingPairs:\n",
        "    sumX2 += x * x\n",
        "    sumY2 += y * y\n",
        "    sumXY += x * y\n",
        "    pairsCount += 1\n",
        "  \n",
        "  return ( sumXY / (math.sqrt(sumX2) * math.sqrt(sumY2) ),  pairsCount)"
      ],
      "execution_count": 0,
      "outputs": []
    },
    {
      "cell_type": "code",
      "metadata": {
        "id": "WnDitNYH1HkA",
        "colab_type": "code",
        "colab": {}
      },
      "source": [
        "moviePairSimilarities = reviews_grpd_by_movies_pairs.mapValues(cosine_similarity).cache()"
      ],
      "execution_count": 0,
      "outputs": []
    },
    {
      "cell_type": "code",
      "metadata": {
        "id": "G1rW8WI31HnL",
        "colab_type": "code",
        "colab": {}
      },
      "source": [
        "# Save the results if desired \n",
        "# moviePairSimilarities.sortByKey() \n",
        "# moviePairSimilarities.saveAsTextFile(\"movie-sims\") "
      ],
      "execution_count": 0,
      "outputs": []
    },
    {
      "cell_type": "markdown",
      "metadata": {
        "id": "EbO2BRe_3Cnb",
        "colab_type": "text"
      },
      "source": [
        "Find the most similar movies for our movie"
      ]
    },
    {
      "cell_type": "code",
      "metadata": {
        "id": "2Q1xkX7f3hJX",
        "colab_type": "code",
        "colab": {}
      },
      "source": [
        "movie = 60\n",
        "similarityThreshold = 0.90\n",
        "coOccurenceThreshold = 20"
      ],
      "execution_count": 0,
      "outputs": []
    },
    {
      "cell_type": "code",
      "metadata": {
        "id": "18MquO081Hsb",
        "colab_type": "code",
        "colab": {}
      },
      "source": [
        "results = moviePairSimilarities.filter(lambda x: ((x[0][0] == movie) or (x[0][1] == movie)) \\\n",
        "                            and (x[1][0] > similarityThreshold)  and (x[1][1] > coOccurenceThreshold ) \n",
        "                            )"
      ],
      "execution_count": 0,
      "outputs": []
    },
    {
      "cell_type": "code",
      "metadata": {
        "id": "K43x4Stp1HqQ",
        "colab_type": "code",
        "colab": {
          "base_uri": "https://localhost:8080/",
          "height": 391
        },
        "outputId": "7da66f20-608c-4ef7-8e83-039806c3f5fa"
      },
      "source": [
        "pp.pprint(results.map(lambda x: (x[1], x[0]) ).sortByKey(ascending=False).map(deriveMovieNames).take(10))"
      ],
      "execution_count": 119,
      "outputs": [
        {
          "output_type": "stream",
          "text": [
            "[((0.9869656221961467, 55),\n",
            "  'Three Colors: Red (1994)',\n",
            "  'Three Colors: Blue (1993)'),\n",
            " ((0.985960931836453, 31), 'Three Colors: Blue (1993)', 'Henry V (1989)'),\n",
            " ((0.982611776170406, 45),\n",
            "  'Three Colors: Blue (1993)',\n",
            "  'Three Colors: White (1994)'),\n",
            " ((0.9797996983004086, 22),\n",
            "  'Three Colors: Blue (1993)',\n",
            "  'Manon of the Spring (Manon des sources) (1986)'),\n",
            " ((0.9791633088404823, 21),\n",
            "  'Three Colors: Blue (1993)',\n",
            "  'Jean de Florette (1986)'),\n",
            " ((0.9782308349399984, 39),\n",
            "  'Three Colors: Blue (1993)',\n",
            "  'Nikita (La Femme Nikita) (1990)'),\n",
            " ((0.9774049313180511, 22),\n",
            "  'Three Colors: Blue (1993)',\n",
            "  'Sex, Lies, and Videotape (1989)'),\n",
            " ((0.976513770199478, 28), 'Three Colors: Blue (1993)', 'Big Night (1996)'),\n",
            " ((0.9752943944662508, 29), 'Three Colors: Blue (1993)', 'Chinatown (1974)'),\n",
            " ((0.9744415217567001, 24), 'Three Colors: Blue (1993)', 'True Romance (1993)')]\n"
          ],
          "name": "stdout"
        }
      ]
    },
    {
      "cell_type": "code",
      "metadata": {
        "id": "zovuQPba8IBj",
        "colab_type": "code",
        "colab": {}
      },
      "source": [
        ""
      ],
      "execution_count": 0,
      "outputs": []
    },
    {
      "cell_type": "code",
      "metadata": {
        "id": "HfdMmS-B9Jis",
        "colab_type": "code",
        "colab": {
          "base_uri": "https://localhost:8080/",
          "height": 34
        },
        "outputId": "56dfa62e-29f3-40c6-ae60-e686bd7cf6d8"
      },
      "source": [
        ""
      ],
      "execution_count": 99,
      "outputs": [
        {
          "output_type": "execute_result",
          "data": {
            "text/plain": [
              "'Legends of the Fall (1994)'"
            ]
          },
          "metadata": {
            "tags": []
          },
          "execution_count": 99
        }
      ]
    },
    {
      "cell_type": "code",
      "metadata": {
        "id": "1t5vdAFBRrmW",
        "colab_type": "code",
        "colab": {}
      },
      "source": [
        ""
      ],
      "execution_count": 0,
      "outputs": []
    },
    {
      "cell_type": "code",
      "metadata": {
        "id": "8jwsg1wXokaZ",
        "colab_type": "code",
        "colab": {}
      },
      "source": [
        ""
      ],
      "execution_count": 0,
      "outputs": []
    }
  ]
}