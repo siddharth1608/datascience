{
 "cells": [
  {
   "cell_type": "markdown",
   "metadata": {},
   "source": [
    "### Apache Hadoop Installation ###\n",
    "\n",
    "In this notebook, we'll see how to setup **Apache Hadoop** on your local system (Mac)"
   ]
  },
  {
   "cell_type": "markdown",
   "metadata": {},
   "source": [
    "**Step - 1**: Download the source code binary files from Apache's website [releases](http://hadoop.apache.org/releases.html) and extract it to any local folder, let's say */home/hadoop*.\n",
    "\n",
    "\n",
    "**Step - 2**: If not present, download Java to any local folder, let's say */home/java*\n",
    "\n",
    "**Step - 3**: Set environment variables in your config file(to make it available across any terminal sessions), for most of us it is ~/.bashrc file\n",
    "\n",
    "```\n",
    "export HADOOP_HOME=/home/hadoop\n",
    "export JAVA_HOME=/home/java\n",
    "```\n",
    "\n",
    "**Step - 4**: Compile your Java Hadoop code files\n",
    "```\n",
    "${JAVA_HOME}/bin/javac classpath `${HADOOP_HOME}/bin/hadoop classpath` <your_java_code_filename>.java\n",
    "${JAVA_HOME}/bin/jar cf <desired_jar_file_name>.jar <your_java_code_filename>*.class \n",
    "```\n",
    "\n",
    "**Step - 5**: Running files\n",
    "\n",
    "```\n",
    "${HADOOP_HOME}/bin/yarn jar <desired_jar_file_name>.jar <MainClass_name> \n",
    "```"
   ]
  },
  {
   "cell_type": "code",
   "execution_count": null,
   "metadata": {},
   "outputs": [],
   "source": []
  }
 ],
 "metadata": {
  "kernelspec": {
   "display_name": "Python 3",
   "language": "python",
   "name": "python3"
  },
  "language_info": {
   "codemirror_mode": {
    "name": "ipython",
    "version": 3
   },
   "file_extension": ".py",
   "mimetype": "text/x-python",
   "name": "python",
   "nbconvert_exporter": "python",
   "pygments_lexer": "ipython3",
   "version": "3.6.3"
  }
 },
 "nbformat": 4,
 "nbformat_minor": 2
}
