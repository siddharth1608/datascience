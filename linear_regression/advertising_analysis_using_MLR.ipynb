{
 "cells": [
  {
   "cell_type": "markdown",
   "metadata": {},
   "source": [
    "# Multiple Linear Regression (MLR) on Advertising Dataset "
   ]
  },
  {
   "cell_type": "code",
   "execution_count": 11,
   "metadata": {
    "collapsed": true
   },
   "outputs": [],
   "source": [
    "import pandas as pd\n",
    "import matplotlib.pyplot as plt\n",
    "import math\n",
    "import numpy as np\n",
    "%matplotlib inline \n",
    "\n",
    "df = pd.read_csv('datasets-for-isrl/Advertising.csv',index_col='sr_num')"
   ]
  },
  {
   "cell_type": "code",
   "execution_count": 2,
   "metadata": {},
   "outputs": [
    {
     "data": {
      "text/html": [
       "<div>\n",
       "<style>\n",
       "    .dataframe thead tr:only-child th {\n",
       "        text-align: right;\n",
       "    }\n",
       "\n",
       "    .dataframe thead th {\n",
       "        text-align: left;\n",
       "    }\n",
       "\n",
       "    .dataframe tbody tr th {\n",
       "        vertical-align: top;\n",
       "    }\n",
       "</style>\n",
       "<table border=\"1\" class=\"dataframe\">\n",
       "  <thead>\n",
       "    <tr style=\"text-align: right;\">\n",
       "      <th></th>\n",
       "      <th>TV</th>\n",
       "      <th>Radio</th>\n",
       "      <th>Newspaper</th>\n",
       "      <th>Sales</th>\n",
       "    </tr>\n",
       "    <tr>\n",
       "      <th>sr_num</th>\n",
       "      <th></th>\n",
       "      <th></th>\n",
       "      <th></th>\n",
       "      <th></th>\n",
       "    </tr>\n",
       "  </thead>\n",
       "  <tbody>\n",
       "    <tr>\n",
       "      <th>1</th>\n",
       "      <td>230.1</td>\n",
       "      <td>37.8</td>\n",
       "      <td>69.2</td>\n",
       "      <td>22.1</td>\n",
       "    </tr>\n",
       "    <tr>\n",
       "      <th>2</th>\n",
       "      <td>44.5</td>\n",
       "      <td>39.3</td>\n",
       "      <td>45.1</td>\n",
       "      <td>10.4</td>\n",
       "    </tr>\n",
       "  </tbody>\n",
       "</table>\n",
       "</div>"
      ],
      "text/plain": [
       "           TV  Radio  Newspaper  Sales\n",
       "sr_num                                \n",
       "1       230.1   37.8       69.2   22.1\n",
       "2        44.5   39.3       45.1   10.4"
      ]
     },
     "execution_count": 2,
     "metadata": {},
     "output_type": "execute_result"
    }
   ],
   "source": [
    "df.head(2)"
   ]
  },
  {
   "cell_type": "markdown",
   "metadata": {},
   "source": [
    "Predictors"
   ]
  },
  {
   "cell_type": "code",
   "execution_count": 3,
   "metadata": {},
   "outputs": [
    {
     "data": {
      "text/plain": [
       "Index(['TV', 'Radio', 'Newspaper', 'Sales'], dtype='object')"
      ]
     },
     "execution_count": 3,
     "metadata": {},
     "output_type": "execute_result"
    }
   ],
   "source": [
    "df.columns"
   ]
  },
  {
   "cell_type": "code",
   "execution_count": 4,
   "metadata": {},
   "outputs": [
    {
     "data": {
      "text/plain": [
       "count    200.000000\n",
       "mean     147.042500\n",
       "std       85.854236\n",
       "min        0.700000\n",
       "25%       74.375000\n",
       "50%      149.750000\n",
       "75%      218.825000\n",
       "max      296.400000\n",
       "Name: TV, dtype: float64"
      ]
     },
     "execution_count": 4,
     "metadata": {},
     "output_type": "execute_result"
    }
   ],
   "source": [
    "df['TV'].describe()"
   ]
  },
  {
   "cell_type": "code",
   "execution_count": 5,
   "metadata": {},
   "outputs": [
    {
     "data": {
      "text/plain": [
       "count    200.000000\n",
       "mean      23.264000\n",
       "std       14.846809\n",
       "min        0.000000\n",
       "25%        9.975000\n",
       "50%       22.900000\n",
       "75%       36.525000\n",
       "max       49.600000\n",
       "Name: Radio, dtype: float64"
      ]
     },
     "execution_count": 5,
     "metadata": {},
     "output_type": "execute_result"
    }
   ],
   "source": [
    "df['Radio'].describe()"
   ]
  },
  {
   "cell_type": "code",
   "execution_count": 6,
   "metadata": {},
   "outputs": [
    {
     "data": {
      "text/plain": [
       "count    200.000000\n",
       "mean      30.554000\n",
       "std       21.778621\n",
       "min        0.300000\n",
       "25%       12.750000\n",
       "50%       25.750000\n",
       "75%       45.100000\n",
       "max      114.000000\n",
       "Name: Newspaper, dtype: float64"
      ]
     },
     "execution_count": 6,
     "metadata": {},
     "output_type": "execute_result"
    }
   ],
   "source": [
    "df['Newspaper'].describe()"
   ]
  },
  {
   "cell_type": "code",
   "execution_count": 7,
   "metadata": {},
   "outputs": [
    {
     "data": {
      "text/plain": [
       "count    200.000000\n",
       "mean      14.022500\n",
       "std        5.217457\n",
       "min        1.600000\n",
       "25%       10.375000\n",
       "50%       12.900000\n",
       "75%       17.400000\n",
       "max       27.000000\n",
       "Name: Sales, dtype: float64"
      ]
     },
     "execution_count": 7,
     "metadata": {},
     "output_type": "execute_result"
    }
   ],
   "source": [
    "df['Sales'].describe()"
   ]
  },
  {
   "cell_type": "code",
   "execution_count": 8,
   "metadata": {},
   "outputs": [
    {
     "data": {
      "text/plain": [
       "Text(0,0.5,'Sales')"
      ]
     },
     "execution_count": 8,
     "metadata": {},
     "output_type": "execute_result"
    },
    {
     "data": {
      "image/png": "[encoded data removed]",
      "text/plain": [
       "<matplotlib.figure.Figure at 0x107cb05c0>"
      ]
     },
     "metadata": {},
     "output_type": "display_data"
    }
   ],
   "source": [
    "\n",
    "fig, (ax1, ax2, ax3) = plt.subplots(1,3, figsize=(17,4))\n",
    "ax1.scatter(x=df['TV'],y=df['Sales'])\n",
    "ax1.set_xlabel('TV budget')\n",
    "ax1.set_ylabel('Sales')\n",
    "\n",
    "\n",
    "ax2.scatter(x=df['Radio'],y=df['Sales'])\n",
    "ax2.set_xlabel('Radio budget')\n",
    "ax2.set_ylabel('Sales')\n",
    "\n",
    "ax3.scatter(x=df['Newspaper'],y=df['Sales'])\n",
    "ax3.set_xlabel('Newspaper budget')\n",
    "ax3.set_ylabel('Sales')\n"
   ]
  },
  {
   "cell_type": "markdown",
   "metadata": {},
   "source": [
    "# Training methods"
   ]
  },
  {
   "cell_type": "markdown",
   "metadata": {},
   "source": [
    "## Calculate the coefficients using matrix calculations"
   ]
  },
  {
   "cell_type": "code",
   "execution_count": 90,
   "metadata": {},
   "outputs": [],
   "source": [
    "def getCoefficientEstimates(data, predictorsColNames, responseColName, allowIntercept = True):\n",
    "    \n",
    "    if allowIntercept:\n",
    "        data['intercept'] = 1\n",
    "        predictorsColNames = ['intercept'] + predictorsColNames  \n",
    "    XMatrix = np.asmatrix(data[predictorsColNames])    \n",
    "    \n",
    "    yMatrix = np.asmatrix(data[responseColName])\n",
    "    \n",
    "    XTransposeMatrix = np.transpose(XMatrix)\n",
    "    \n",
    "    XDotXTranspose = np.dot(XTransposeMatrix,XMatrix)\n",
    "    XTransposeDotY = XTransposeMatrix * yMatrix.transpose()\n",
    "    \n",
    "    return np.dot(np.linalg.pinv(XDotXTranspose),XTransposeDotY)"
   ]
  },
  {
   "cell_type": "code",
   "execution_count": 91,
   "metadata": {},
   "outputs": [
    {
     "data": {
      "text/plain": [
       "matrix([[  2.93888937e+00],\n",
       "        [  4.57646455e-02],\n",
       "        [  1.88530017e-01],\n",
       "        [ -1.03749304e-03]])"
      ]
     },
     "execution_count": 91,
     "metadata": {},
     "output_type": "execute_result"
    }
   ],
   "source": [
    "getCoefficientEstimates(df, ['TV','Radio','Newspaper'], 'Sales',allowIntercept = True,)"
   ]
  },
  {
   "cell_type": "markdown",
   "metadata": {},
   "source": [
    "## Calculate the coefficients and fit model using sklearn"
   ]
  },
  {
   "cell_type": "code",
   "execution_count": 114,
   "metadata": {
    "collapsed": true
   },
   "outputs": [],
   "source": [
    "from sklearn import linear_model\n",
    "def getCoefficientEstimatesUsingSklearn(data, predictorsColNames, responseColName, allowIntercept = True):\n",
    "    lm = linear_model.LinearRegression(fit_intercept=allowIntercept)\n",
    "    model = lm.fit(X=data[predictorsColNames],y=data[responseColName])\n",
    "    return (lm.coef_, lm.intercept_)"
   ]
  },
  {
   "cell_type": "code",
   "execution_count": 93,
   "metadata": {},
   "outputs": [
    {
     "data": {
      "text/plain": [
       "(array([ 0.04576465,  0.18853002, -0.00103749]), 2.9388893694594067)"
      ]
     },
     "execution_count": 93,
     "metadata": {},
     "output_type": "execute_result"
    }
   ],
   "source": [
    "getCoefficientEstimatesUsingSklearn(df, ['TV','Radio','Newspaper'], 'Sales',allowIntercept = True,)"
   ]
  },
  {
   "cell_type": "code",
   "execution_count": 113,
   "metadata": {
    "collapsed": true
   },
   "outputs": [],
   "source": [
    "from sklearn import linear_model\n",
    "def getModelParamsUsingSklean(data, predictorsColNames, responseColName, allowIntercept = True):\n",
    "    lm = linear_model.LinearRegression(fit_intercept=allowIntercept)\n",
    "    model = lm.fit(X=data[predictorsColNames],y=data[responseColName])\n",
    "    return model.score(X=data[predictorsColNames], y=data[responseColName])"
   ]
  },
  {
   "cell_type": "code",
   "execution_count": 112,
   "metadata": {},
   "outputs": [
    {
     "name": "stdout",
     "output_type": "stream",
     "text": [
      "R2 : 0.8972106381789521\n"
     ]
    }
   ],
   "source": [
    "print('R2 : {0}'.format(getModelParamsUsingSklean(df, ['TV','Radio','Newspaper'], 'Sales',allowIntercept = True)))"
   ]
  },
  {
   "cell_type": "markdown",
   "metadata": {},
   "source": [
    "## Calculate the coefficients and fit model using Statsmodel"
   ]
  },
  {
   "cell_type": "code",
   "execution_count": 115,
   "metadata": {},
   "outputs": [
    {
     "name": "stderr",
     "output_type": "stream",
     "text": [
      "/Users/siddharth/anaconda3/lib/python3.6/site-packages/statsmodels/compat/pandas.py:56: FutureWarning: The pandas.core.datetools module is deprecated and will be removed in a future version. Please use the pandas.tseries module instead.\n",
      "  from pandas.core import datetools\n"
     ]
    }
   ],
   "source": [
    "import statsmodels.api as sm\n",
    "def getModelParamsUsingStatsModel(data, predictorsColNames, responseColName):\n",
    "    X = data[predictorsColNames] ## X usually means our input variables (or independent variables)\n",
    "    y = data[responseColName] ## Y usually means our output/dependent variable\n",
    "    X = sm.add_constant(X) ## let's add an intercept (beta_0) to our model\n",
    "    \n",
    "    # Note the difference in argument order\n",
    "    model = sm.OLS(y, X).fit() ## sm.OLS(output, input)\n",
    "    \n",
    "    print(model.summary())"
   ]
  },
  {
   "cell_type": "code",
   "execution_count": 116,
   "metadata": {},
   "outputs": [
    {
     "name": "stdout",
     "output_type": "stream",
     "text": [
      "                            OLS Regression Results                            \n",
      "==============================================================================\n",
      "Dep. Variable:                  Sales   R-squared:                       0.897\n",
      "Model:                            OLS   Adj. R-squared:                  0.896\n",
      "Method:                 Least Squares   F-statistic:                     570.3\n",
      "Date:                Fri, 27 Apr 2018   Prob (F-statistic):           1.58e-96\n",
      "Time:                        13:30:02   Log-Likelihood:                -386.18\n",
      "No. Observations:                 200   AIC:                             780.4\n",
      "Df Residuals:                     196   BIC:                             793.6\n",
      "Df Model:                           3                                         \n",
      "Covariance Type:            nonrobust                                         \n",
      "==============================================================================\n",
      "                 coef    std err          t      P>|t|      [0.025      0.975]\n",
      "------------------------------------------------------------------------------\n",
      "const          2.9389      0.312      9.422      0.000       2.324       3.554\n",
      "TV             0.0458      0.001     32.809      0.000       0.043       0.049\n",
      "Radio          0.1885      0.009     21.893      0.000       0.172       0.206\n",
      "Newspaper     -0.0010      0.006     -0.177      0.860      -0.013       0.011\n",
      "==============================================================================\n",
      "Omnibus:                       60.414   Durbin-Watson:                   2.084\n",
      "Prob(Omnibus):                  0.000   Jarque-Bera (JB):              151.241\n",
      "Skew:                          -1.327   Prob(JB):                     1.44e-33\n",
      "Kurtosis:                       6.332   Cond. No.                         454.\n",
      "==============================================================================\n",
      "\n",
      "Warnings:\n",
      "[1] Standard Errors assume that the covariance matrix of the errors is correctly specified.\n"
     ]
    }
   ],
   "source": [
    "getModelParamsUsingStatsModel(df, ['TV','Radio','Newspaper'], 'Sales')"
   ]
  },
  {
   "cell_type": "markdown",
   "metadata": {},
   "source": [
    "The **R2** value using multiple regression on TV, Radio and Newspaper is much greater than using simple regression on TV(0.61) or Radio(0.33) or Newspaper(0.05)\n",
    "\n",
    "**Which means TV, Radio and Newspaper together explains much more variability of Sales than just by doing the job alone**"
   ]
  },
  {
   "cell_type": "markdown",
   "metadata": {},
   "source": [
    "## Interaction terms "
   ]
  },
  {
   "cell_type": "markdown",
   "metadata": {},
   "source": [
    "Let's Use TV and Radio interaction term"
   ]
  },
  {
   "cell_type": "code",
   "execution_count": 117,
   "metadata": {
    "collapsed": true
   },
   "outputs": [],
   "source": [
    "df['TV X Radio'] = df['TV'] * df['Radio']"
   ]
  },
  {
   "cell_type": "code",
   "execution_count": 119,
   "metadata": {},
   "outputs": [
    {
     "name": "stdout",
     "output_type": "stream",
     "text": [
      "                            OLS Regression Results                            \n",
      "==============================================================================\n",
      "Dep. Variable:                  Sales   R-squared:                       0.968\n",
      "Model:                            OLS   Adj. R-squared:                  0.967\n",
      "Method:                 Least Squares   F-statistic:                     1466.\n",
      "Date:                Fri, 27 Apr 2018   Prob (F-statistic):          2.92e-144\n",
      "Time:                        13:35:56   Log-Likelihood:                -270.04\n",
      "No. Observations:                 200   AIC:                             550.1\n",
      "Df Residuals:                     195   BIC:                             566.6\n",
      "Df Model:                           4                                         \n",
      "Covariance Type:            nonrobust                                         \n",
      "==============================================================================\n",
      "                 coef    std err          t      P>|t|      [0.025      0.975]\n",
      "------------------------------------------------------------------------------\n",
      "const          6.7284      0.253     26.561      0.000       6.229       7.228\n",
      "TV             0.0191      0.002     12.633      0.000       0.016       0.022\n",
      "Radio          0.0280      0.009      3.062      0.003       0.010       0.046\n",
      "TV X Radio     0.0011   5.26e-05     20.686      0.000       0.001       0.001\n",
      "Newspaper      0.0014      0.003      0.438      0.662      -0.005       0.008\n",
      "==============================================================================\n",
      "Omnibus:                      126.161   Durbin-Watson:                   2.216\n",
      "Prob(Omnibus):                  0.000   Jarque-Bera (JB):             1123.463\n",
      "Skew:                          -2.291   Prob(JB):                    1.10e-244\n",
      "Kurtosis:                      13.669   Cond. No.                     1.84e+04\n",
      "==============================================================================\n",
      "\n",
      "Warnings:\n",
      "[1] Standard Errors assume that the covariance matrix of the errors is correctly specified.\n",
      "[2] The condition number is large, 1.84e+04. This might indicate that there are\n",
      "strong multicollinearity or other numerical problems.\n"
     ]
    }
   ],
   "source": [
    "getModelParamsUsingStatsModel(df, ['TV','Radio','TV X Radio','Newspaper'], 'Sales')"
   ]
  },
  {
   "cell_type": "markdown",
   "metadata": {},
   "source": [
    "**The R2 value using interaction of TV and Radio is increased to 0.968 from 0.897.** \n",
    "\n",
    "Please note we must keep the original terms as predictors too when using their interaction as predictor. This principle is called ** Hierarchical principle **\n"
   ]
  },
  {
   "cell_type": "code",
   "execution_count": null,
   "metadata": {
    "collapsed": true
   },
   "outputs": [],
   "source": []
  }
 ],
 "metadata": {
  "kernelspec": {
   "display_name": "Python 3",
   "language": "python",
   "name": "python3"
  },
  "language_info": {
   "codemirror_mode": {
    "name": "ipython",
    "version": 3
   },
   "file_extension": ".py",
   "mimetype": "text/x-python",
   "name": "python",
   "nbconvert_exporter": "python",
   "pygments_lexer": "ipython3",
   "version": "3.6.3"
  }
 },
 "nbformat": 4,
 "nbformat_minor": 2
}
