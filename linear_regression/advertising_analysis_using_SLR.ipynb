{
 "cells": [
  {
   "cell_type": "markdown",
   "metadata": {},
   "source": [
    "# Simple Linear Regression (SLR) on Advertising Dataset #\n",
    "\n",
    "This notebook is to practice the concepts mentioned in the book **An Introduction to Statistical Learning**\n"
   ]
  },
  {
   "cell_type": "code",
   "execution_count": 11,
   "metadata": {
    "collapsed": true
   },
   "outputs": [],
   "source": [
    "import pandas as pd\n",
    "import matplotlib.pyplot as plt\n",
    "import math\n",
    "%matplotlib inline \n",
    "\n",
    "df = pd.read_csv('datasets-for-isrl/Advertising.csv',index_col='sr_num')"
   ]
  },
  {
   "cell_type": "markdown",
   "metadata": {},
   "source": [
    "### Description of the dataset ###"
   ]
  },
  {
   "cell_type": "code",
   "execution_count": 12,
   "metadata": {},
   "outputs": [
    {
     "data": {
      "text/html": [
       "<div>\n",
       "<style>\n",
       "    .dataframe thead tr:only-child th {\n",
       "        text-align: right;\n",
       "    }\n",
       "\n",
       "    .dataframe thead th {\n",
       "        text-align: left;\n",
       "    }\n",
       "\n",
       "    .dataframe tbody tr th {\n",
       "        vertical-align: top;\n",
       "    }\n",
       "</style>\n",
       "<table border=\"1\" class=\"dataframe\">\n",
       "  <thead>\n",
       "    <tr style=\"text-align: right;\">\n",
       "      <th></th>\n",
       "      <th>TV</th>\n",
       "      <th>Radio</th>\n",
       "      <th>Newspaper</th>\n",
       "      <th>Sales</th>\n",
       "    </tr>\n",
       "    <tr>\n",
       "      <th>sr_num</th>\n",
       "      <th></th>\n",
       "      <th></th>\n",
       "      <th></th>\n",
       "      <th></th>\n",
       "    </tr>\n",
       "  </thead>\n",
       "  <tbody>\n",
       "    <tr>\n",
       "      <th>1</th>\n",
       "      <td>230.1</td>\n",
       "      <td>37.8</td>\n",
       "      <td>69.2</td>\n",
       "      <td>22.1</td>\n",
       "    </tr>\n",
       "    <tr>\n",
       "      <th>2</th>\n",
       "      <td>44.5</td>\n",
       "      <td>39.3</td>\n",
       "      <td>45.1</td>\n",
       "      <td>10.4</td>\n",
       "    </tr>\n",
       "  </tbody>\n",
       "</table>\n",
       "</div>"
      ],
      "text/plain": [
       "           TV  Radio  Newspaper  Sales\n",
       "sr_num                                \n",
       "1       230.1   37.8       69.2   22.1\n",
       "2        44.5   39.3       45.1   10.4"
      ]
     },
     "execution_count": 12,
     "metadata": {},
     "output_type": "execute_result"
    }
   ],
   "source": [
    "df.head(2)"
   ]
  },
  {
   "cell_type": "markdown",
   "metadata": {},
   "source": [
    "- Sales column contains the unit of sales in thousands of units. \n",
    "- Remaining three columns stores the advertising budget in thousands of dollar spent on each of the medium"
   ]
  },
  {
   "cell_type": "markdown",
   "metadata": {},
   "source": [
    "Let's look at each column statistics"
   ]
  },
  {
   "cell_type": "code",
   "execution_count": 5,
   "metadata": {},
   "outputs": [
    {
     "data": {
      "text/html": [
       "<div>\n",
       "<style>\n",
       "    .dataframe thead tr:only-child th {\n",
       "        text-align: right;\n",
       "    }\n",
       "\n",
       "    .dataframe thead th {\n",
       "        text-align: left;\n",
       "    }\n",
       "\n",
       "    .dataframe tbody tr th {\n",
       "        vertical-align: top;\n",
       "    }\n",
       "</style>\n",
       "<table border=\"1\" class=\"dataframe\">\n",
       "  <thead>\n",
       "    <tr style=\"text-align: right;\">\n",
       "      <th></th>\n",
       "      <th>TV</th>\n",
       "      <th>Radio</th>\n",
       "      <th>Newspaper</th>\n",
       "      <th>Sales</th>\n",
       "    </tr>\n",
       "  </thead>\n",
       "  <tbody>\n",
       "    <tr>\n",
       "      <th>count</th>\n",
       "      <td>200.000000</td>\n",
       "      <td>200.000000</td>\n",
       "      <td>200.000000</td>\n",
       "      <td>200.000000</td>\n",
       "    </tr>\n",
       "    <tr>\n",
       "      <th>mean</th>\n",
       "      <td>147.042500</td>\n",
       "      <td>23.264000</td>\n",
       "      <td>30.554000</td>\n",
       "      <td>14.022500</td>\n",
       "    </tr>\n",
       "    <tr>\n",
       "      <th>std</th>\n",
       "      <td>85.854236</td>\n",
       "      <td>14.846809</td>\n",
       "      <td>21.778621</td>\n",
       "      <td>5.217457</td>\n",
       "    </tr>\n",
       "    <tr>\n",
       "      <th>min</th>\n",
       "      <td>0.700000</td>\n",
       "      <td>0.000000</td>\n",
       "      <td>0.300000</td>\n",
       "      <td>1.600000</td>\n",
       "    </tr>\n",
       "    <tr>\n",
       "      <th>25%</th>\n",
       "      <td>74.375000</td>\n",
       "      <td>9.975000</td>\n",
       "      <td>12.750000</td>\n",
       "      <td>10.375000</td>\n",
       "    </tr>\n",
       "    <tr>\n",
       "      <th>50%</th>\n",
       "      <td>149.750000</td>\n",
       "      <td>22.900000</td>\n",
       "      <td>25.750000</td>\n",
       "      <td>12.900000</td>\n",
       "    </tr>\n",
       "    <tr>\n",
       "      <th>75%</th>\n",
       "      <td>218.825000</td>\n",
       "      <td>36.525000</td>\n",
       "      <td>45.100000</td>\n",
       "      <td>17.400000</td>\n",
       "    </tr>\n",
       "    <tr>\n",
       "      <th>max</th>\n",
       "      <td>296.400000</td>\n",
       "      <td>49.600000</td>\n",
       "      <td>114.000000</td>\n",
       "      <td>27.000000</td>\n",
       "    </tr>\n",
       "  </tbody>\n",
       "</table>\n",
       "</div>"
      ],
      "text/plain": [
       "               TV       Radio   Newspaper       Sales\n",
       "count  200.000000  200.000000  200.000000  200.000000\n",
       "mean   147.042500   23.264000   30.554000   14.022500\n",
       "std     85.854236   14.846809   21.778621    5.217457\n",
       "min      0.700000    0.000000    0.300000    1.600000\n",
       "25%     74.375000    9.975000   12.750000   10.375000\n",
       "50%    149.750000   22.900000   25.750000   12.900000\n",
       "75%    218.825000   36.525000   45.100000   17.400000\n",
       "max    296.400000   49.600000  114.000000   27.000000"
      ]
     },
     "execution_count": 5,
     "metadata": {},
     "output_type": "execute_result"
    }
   ],
   "source": [
    "df[['TV','Radio', 'Newspaper', 'Sales']].describe()"
   ]
  },
  {
   "cell_type": "markdown",
   "metadata": {},
   "source": [
    "Observations:\n",
    "1. TV has the largest share of the advertising budget\n",
    "2. As compared to Newspaper and TV, Radio has least variation"
   ]
  },
  {
   "cell_type": "code",
   "execution_count": 10,
   "metadata": {
    "scrolled": true
   },
   "outputs": [
    {
     "data": {
      "image/png": "[encoded data removed]",
      "text/plain": [
       "<matplotlib.figure.Figure at 0x1126ade10>"
      ]
     },
     "metadata": {},
     "output_type": "display_data"
    }
   ],
   "source": [
    "\n",
    "fig, (ax1, ax2, ax3) = plt.subplots(1,3, figsize=(17,4))\n",
    "ax1.scatter(x=df['TV'],y=df['Sales'])\n",
    "ax1.set_xlabel('TV budget in 1000$')\n",
    "ax1.set_ylabel('Sales in 1000 units')\n",
    "\n",
    "\n",
    "ax2.scatter(x=df['Radio'],y=df['Sales'])\n",
    "ax2.set_xlabel('Radio budget in 1000$')\n",
    "ax2.set_ylabel('Sales in 1000 units')\n",
    "\n",
    "ax3.scatter(x=df['Newspaper'],y=df['Sales'])\n",
    "ax3.set_xlabel('Newspaper budget in 1000$')\n",
    "ax3.set_ylabel('Sales in 1000 units')\n",
    "\n",
    "plt.suptitle('Trend between Sales and Advertising media')\n",
    "plt.show()"
   ]
  },
  {
   "cell_type": "markdown",
   "metadata": {},
   "source": [
    "Observations:\n",
    "1. Increase in TV Advertising budget increases Sales\n",
    "2. There is no relationship between Newspaper Advertising budget on the Sales"
   ]
  },
  {
   "cell_type": "markdown",
   "metadata": {},
   "source": [
    "## Model Training ##\n",
    "\n",
    "#### Lets implement manually Linear Regression using Single Predictor ####\n",
    "\n",
    "The Objective is to obtain a function that applies a linear operation on the inputs and generates the target variable. To achieve this we will find the best values of the parameters ${\\beta_0}$ (also called Bias or y intercept) and ${\\beta_1}$ (also called X-intercept) that minimizes the loss between predicted and actual target.\n",
    "\n",
    "$${Y = \\beta_0 + \\beta_1 * X}$$\n",
    "\n",
    "The loss we aim to minimize here is **Residual Sum of Squares**. The principle is to reduce the squared difference between actual target and predicted target values by choosing favourable parameters.\n",
    "\n",
    "$${RSS = (\\bar{y_1} - \\hat{\\beta_0} -\\hat{\\beta_1}*x_1 ) + (\\bar{y_2} - \\hat{\\beta_0} -\\hat{\\beta_2}*x_2 ) + ... (\\bar{y_n} - \\hat{\\beta_0} -\\hat{\\beta_n}*x_n )}$$\n",
    "\n",
    "\n",
    "Which is nothing but, summing up all the squared difference of actual and predicted target values"
   ]
  },
  {
   "cell_type": "markdown",
   "metadata": {},
   "source": [
    "But how to chose the parameters? By applying calculus on the above formula one can find the following formula of both parameters. This derivation is kept out of the scope of book.\n",
    "\n",
    "$${\\hat{\\beta_1} = \\frac{\\sum_{i=1}^n (x_i - \\bar{x})(y_i - \\bar{y})}{\\sum_{i=1}^n (x_i - \\bar{x})^2} } $$\n",
    "\n",
    "\n",
    "$${\\hat{\\beta_0} = \\bar{y} - \\hat{\\beta_1} \\bar{x}} $$"
   ]
  },
  {
   "cell_type": "code",
   "execution_count": 15,
   "metadata": {
    "collapsed": true
   },
   "outputs": [],
   "source": [
    "def roundDecimalsToFourPlaces(num):\n",
    "    return round(num,4)"
   ]
  },
  {
   "cell_type": "markdown",
   "metadata": {},
   "source": [
    "$${\\hat{\\beta_1} = \\frac{\\sum_{i=1}^n (x_i - \\bar{x})(y_i - \\bar{y})}{\\sum_{i=1}^n (x_i - \\bar{x})^2} } $$"
   ]
  },
  {
   "cell_type": "code",
   "execution_count": 17,
   "metadata": {
    "collapsed": true
   },
   "outputs": [],
   "source": [
    "def getCoefficientEstimate(data, predictorColName, responseColName):\n",
    "    predictorMean = data[predictorColName].mean()\n",
    "    responseMean = data[responseColName].mean()\n",
    "    predictorValues = data[predictorColName].tolist()\n",
    "    responseValues = data[responseColName].tolist()\n",
    "    sumNumerator = 0\n",
    "    sumDenominator = 0\n",
    "    for i in range(0,len(responseValues)):\n",
    "        sumNumerator = sumNumerator + (predictorValues[i] - predictorMean) * (responseValues[i] - responseMean)\n",
    "        sumDenominator = sumDenominator + (predictorValues[i] - predictorMean) * (predictorValues[i] - predictorMean) \n",
    "    return roundDecimalsToFourPlaces(sumNumerator / sumDenominator)"
   ]
  },
  {
   "cell_type": "markdown",
   "metadata": {},
   "source": [
    "$${\\hat{\\beta_0} = \\bar{y} - \\hat{\\beta_1} \\bar{x}} $$"
   ]
  },
  {
   "cell_type": "code",
   "execution_count": 16,
   "metadata": {
    "collapsed": true
   },
   "outputs": [],
   "source": [
    "def getIntercept(data, predictorColName, responseColName, predictorEstimate):\n",
    "    predictorMean = data[predictorColName].mean()\n",
    "    responseMean = data[responseColName].mean()\n",
    "    return roundDecimalsToFourPlaces(responseMean - predictorEstimate * predictorMean)"
   ]
  },
  {
   "cell_type": "code",
   "execution_count": null,
   "metadata": {
    "collapsed": true
   },
   "outputs": [],
   "source": []
  },
  {
   "cell_type": "code",
   "execution_count": 18,
   "metadata": {
    "collapsed": true
   },
   "outputs": [],
   "source": [
    "def getSimpleLinearRegressionFitParams(data, predictor, response):\n",
    "    b1 = getCoefficientEstimate(data, predictor, response)\n",
    "    b0 = getIntercept(data, predictor, response, b1)\n",
    "    return (b0, b1)"
   ]
  },
  {
   "cell_type": "markdown",
   "metadata": {},
   "source": [
    "$${Y = \\beta_0 + \\beta_1 * X}$$"
   ]
  },
  {
   "cell_type": "code",
   "execution_count": 19,
   "metadata": {
    "collapsed": true
   },
   "outputs": [],
   "source": [
    "def predictUsingSimpleLinearRegression(intercept, predictor, slopeOfPredictor):\n",
    "    return roundDecimalsToFourPlaces(intercept + predictor * slopeOfPredictor)"
   ]
  },
  {
   "cell_type": "markdown",
   "metadata": {},
   "source": [
    "$${RSS = (\\bar{y_1} - \\hat{\\beta_0} -\\hat{\\beta_1}*x_1 ) + (\\bar{y_2} - \\hat{\\beta_0} -\\hat{\\beta_2}*x_2 ) + ... (\\bar{y_n} - \\hat{\\beta_0} -\\hat{\\beta_n}*x_n )}$$"
   ]
  },
  {
   "cell_type": "code",
   "execution_count": 24,
   "metadata": {
    "collapsed": true
   },
   "outputs": [],
   "source": [
    "def getResidualSumOfSquares(data, predictorColName, responseColName):\n",
    "    predictorValues = data[predictorColName].tolist()\n",
    "    responseValues = data[responseColName].tolist()\n",
    "    predictorEstimate = getCoefficientEstimate(data,predictorColName,responseColName)\n",
    "    intercept = getIntercept(data,predictorColName,responseColName,predictorEstimate)\n",
    "    rss = 0\n",
    "    n = len(responseValues)\n",
    "    for i in range(0,n):\n",
    "        rss = rss + math.pow((responseValues[i] - intercept - predictorEstimate * predictorValues[i]),2)\n",
    "    return roundDecimalsToFourPlaces(rss)"
   ]
  },
  {
   "cell_type": "markdown",
   "metadata": {},
   "source": [
    "Let us now assess how accurate are the parameters (also called co-efficent of estimates)"
   ]
  },
  {
   "cell_type": "markdown",
   "metadata": {},
   "source": [
    "1. Standard Error: This metric tells us on average how much different are the parameters of the modeled function to the parameters of the True function"
   ]
  },
  {
   "cell_type": "code",
   "execution_count": 20,
   "metadata": {
    "collapsed": true
   },
   "outputs": [],
   "source": [
    "def getStandardErrorOfCoefficientEstimate(data, predictorColName, standardDeviation):\n",
    "    variance = math.pow(standardDeviation,2)\n",
    "    predictorMean = data[predictorColName].mean()    \n",
    "    predictorValues = data[predictorColName].tolist()\n",
    "    temp = 0\n",
    "    n = len(predictorValues)\n",
    "    for i in range(0,n):    \n",
    "        temp = temp + math.pow((predictorValues[i] - predictorMean),2)\n",
    "    standardError = variance / temp  \n",
    "    return roundDecimalsToFourPlaces(math.sqrt(standardError))"
   ]
  },
  {
   "cell_type": "code",
   "execution_count": 21,
   "metadata": {
    "collapsed": true
   },
   "outputs": [],
   "source": [
    "def getStandardErrorOfIntercept(data, predictorColName, standardDeviation):\n",
    "    variance = math.pow(standardDeviation,2)    \n",
    "    predictorMean = data[predictorColName].mean()    \n",
    "    predictorValues = data[predictorColName].tolist() \n",
    "    temp = 0\n",
    "    n = len(predictorValues)\n",
    "    for i in range(0,n):    \n",
    "        temp = temp + math.pow((predictorValues[i] - predictorMean),2)\n",
    "    standardError = variance * ((1 / n) + (math.pow(predictorMean,2) / temp))\n",
    "    return roundDecimalsToFourPlaces(math.sqrt(standardError))"
   ]
  },
  {
   "cell_type": "markdown",
   "metadata": {},
   "source": [
    "2 . Confidence Interval: Next, we find the confidence interval of the parameter values with a pre-define confidence level (95%). 95% confidence level means out of 100 observations 95 times, the true value will be in the confidence interval."
   ]
  },
  {
   "cell_type": "code",
   "execution_count": 22,
   "metadata": {
    "collapsed": true
   },
   "outputs": [],
   "source": [
    "def getConfidenceIntervalWith95Perc(estimatedValue, standardError):\n",
    "    return (estimatedValue - 2 * standardError, estimatedValue + 2 * standardError)"
   ]
  },
  {
   "cell_type": "code",
   "execution_count": 23,
   "metadata": {
    "collapsed": true
   },
   "outputs": [],
   "source": [
    "def getResidualStandardError(rss, n):\n",
    "    return roundDecimalsToFourPlaces(math.sqrt(rss/(n-2)))"
   ]
  },
  {
   "cell_type": "code",
   "execution_count": 25,
   "metadata": {
    "collapsed": true
   },
   "outputs": [],
   "source": [
    "def getRSquare(data, responseColName, rss):\n",
    "    responseValues = data[responseColName].tolist()\n",
    "    responseMean = data[responseColName].mean()\n",
    "    tss = 0 \n",
    "    n = len(responseValues)\n",
    "    for i in range(0,n):\n",
    "        tss = tss + math.pow((responseValues[i] - responseMean),2)\n",
    "    return roundDecimalsToFourPlaces(1 - (rss / tss))"
   ]
  },
  {
   "cell_type": "code",
   "execution_count": 26,
   "metadata": {
    "collapsed": true
   },
   "outputs": [],
   "source": [
    "def plotResidualVersusPredictor(data, predictorColName, responseColName):\n",
    "    predictorValues = data[predictorColName].tolist()\n",
    "    responseValues = data[responseColName].tolist()\n",
    "    predictorEstimate = getCoefficientEstimate(data,predictorColName,responseColName)\n",
    "    intercept = getIntercept(data,predictorColName,responseColName,predictorEstimate)\n",
    "    rss = 0\n",
    "    n = len(responseValues)\n",
    "    residuals = []\n",
    "    for i in range(0,n):\n",
    "        residuals.append((responseValues[i] - intercept - predictorEstimate * predictorValues[i]))\n",
    "    \n",
    "    fig, (ax1) = plt.subplots(1,1)\n",
    "    ax1.scatter(x=predictorValues,y=residuals)\n",
    "    ax1.set_xlabel(predictorColName)\n",
    "    ax1.set_ylabel('residuals')\n",
    "    \n",
    "    ax1.set_title('Resiudual against Predictor to check linearity')\n",
    "    \n",
    "    plt.show()"
   ]
  },
  {
   "cell_type": "code",
   "execution_count": 27,
   "metadata": {
    "collapsed": true
   },
   "outputs": [],
   "source": [
    "def performSimpleRegressionOnPredictor(data, predictor, response, testValue):\n",
    "    n = data.shape[0]\n",
    "    print('number of records',n)\n",
    "    intercept, slopeOfPredictor = getSimpleLinearRegressionFitParams(data, predictor, response)\n",
    "    print('Predictor {0} - Response {1}'.format(predictor, response))\n",
    "    print('b0 : {0}'.format(intercept))\n",
    "    print('b1 : {0}'.format(slopeOfPredictor))\n",
    "    print('predicted y : {0}'.format(predictUsingSimpleLinearRegression(intercept, testValue, slopeOfPredictor)))\n",
    "    rss = getResidualSumOfSquares(df,predictor,response)\n",
    "    print('RSS : {0}'.format(rss))\n",
    "    rse = getResidualStandardError(rss, n)    \n",
    "    print('RSE : {0}'.format(rse))    \n",
    "    standardErrorOfIntercept = getStandardErrorOfIntercept(data, predictor, rse)\n",
    "    print('SE(b0) : {0}'.format(standardErrorOfIntercept))    \n",
    "    standardErrorOfPredictorCoefficient = getStandardErrorOfCoefficientEstimate(df, predictor, rse)\n",
    "    print('SE(b1) : {0}'.format(standardErrorOfPredictorCoefficient))\n",
    "    confidenceIntervalOfIntercept = getConfidenceIntervalWith95Perc(intercept, standardErrorOfIntercept)\n",
    "    print('95% Confidence Interval of b0:{0}'.format(confidenceIntervalOfIntercept))\n",
    "    confidenceIntervalOfPredictor = getConfidenceIntervalWith95Perc(intercept, standardErrorOfPredictorCoefficient)\n",
    "    print('95% Confidence Interval of b1:{0}'.format(confidenceIntervalOfPredictor))\n",
    "    tStatisticsOfIntercept = roundDecimalsToFourPlaces(intercept / standardErrorOfIntercept)\n",
    "    print('t-statistics(b0): {0}'.format(tStatisticsOfIntercept))\n",
    "    tStatisticsOfPredictorCoefficient = roundDecimalsToFourPlaces(slopeOfPredictor / standardErrorOfPredictorCoefficient)\n",
    "    print('t-statistics(b1): {0}'.format(tStatisticsOfPredictorCoefficient))\n",
    "    #print('p-value: {0}'.format('??'))\n",
    "    rSquare = getRSquare(data, response, rss)\n",
    "    print('R2 : {0}'.format(rSquare))\n",
    "    plotResidualVersusPredictor(data,predictor,response)"
   ]
  },
  {
   "cell_type": "markdown",
   "metadata": {},
   "source": [
    "# TV"
   ]
  },
  {
   "cell_type": "code",
   "execution_count": 28,
   "metadata": {},
   "outputs": [
    {
     "name": "stdout",
     "output_type": "stream",
     "text": [
      "number of records 200\n",
      "Predictor TV - Response Sales\n",
      "b0 : 7.038\n",
      "b1 : 0.0475\n",
      "predicted y : 17.9678\n",
      "RSS : 2102.5326\n",
      "RSE : 3.2587\n",
      "SE(b0) : 0.4578\n",
      "SE(b1) : 0.0027\n",
      "95% Confidence Interval of b0:(6.122400000000001, 7.9536)\n",
      "95% Confidence Interval of b1:(7.0326, 7.0434)\n",
      "t-statistics(b0): 15.3735\n",
      "t-statistics(b1): 17.5926\n",
      "R2 : 0.6119\n"
     ]
    },
    {
     "data": {
      "image/png": "[encoded data removed]",
      "text/plain": [
       "<matplotlib.figure.Figure at 0x1125c7a58>"
      ]
     },
     "metadata": {},
     "output_type": "display_data"
    }
   ],
   "source": [
    "performSimpleRegressionOnPredictor(df,predictor='TV',response='Sales',testValue=230.1)"
   ]
  },
  {
   "cell_type": "markdown",
   "metadata": {},
   "source": [
    "# Radio"
   ]
  },
  {
   "cell_type": "code",
   "execution_count": 23,
   "metadata": {},
   "outputs": [
    {
     "name": "stdout",
     "output_type": "stream",
     "text": [
      "number of records 200\n",
      "Predictor Radio - Response Sales\n",
      "b0 : 9.3115\n",
      "b1 : 0.2025\n",
      "predicted y : 12.349\n",
      "RSS : 3618.4796\n",
      "RSE : 4.2749\n",
      "SE(b0) : 0.5629\n",
      "SE(b1) : 0.0204\n",
      "95% Confidence Interval of b0:(8.1857, 10.4373)\n",
      "95% Confidence Interval of b1:(9.2707, 9.352300000000001)\n",
      "t-statistics(b0): 16.542\n",
      "t-statistics(b1): 9.9265\n",
      "p-value: ??\n",
      "R2 : 0.332\n"
     ]
    },
    {
     "data": {
      "image/png": "[encoded data removed]",
      "text/plain": [
       "<matplotlib.figure.Figure at 0x1140b4cf8>"
      ]
     },
     "metadata": {},
     "output_type": "display_data"
    }
   ],
   "source": [
    "performSimpleRegressionOnPredictor(df,predictor='Radio',response='Sales',testValue=15)"
   ]
  },
  {
   "cell_type": "markdown",
   "metadata": {},
   "source": [
    "# Newspaper"
   ]
  },
  {
   "cell_type": "code",
   "execution_count": 24,
   "metadata": {},
   "outputs": [
    {
     "name": "stdout",
     "output_type": "stream",
     "text": [
      "number of records 200\n",
      "Predictor Newspaper - Response Sales\n",
      "b0 : 12.3512\n",
      "b1 : 0.0547\n",
      "predicted y : 13.1717\n",
      "RSS : 5134.8045\n",
      "RSE : 5.0925\n",
      "SE(b0) : 0.6214\n",
      "SE(b1) : 0.0166\n",
      "95% Confidence Interval of b0:(11.1084, 13.594000000000001)\n",
      "95% Confidence Interval of b1:(12.318, 12.384400000000001)\n",
      "t-statistics(b0): 19.8764\n",
      "t-statistics(b1): 3.2952\n",
      "p-value: ??\n",
      "R2 : 0.0521\n"
     ]
    },
    {
     "data": {
      "image/png": "[encoded data removed]",
      "text/plain": [
       "<matplotlib.figure.Figure at 0x11c8297b8>"
      ]
     },
     "metadata": {},
     "output_type": "display_data"
    }
   ],
   "source": [
    "performSimpleRegressionOnPredictor(df,predictor='Newspaper',response='Sales',testValue=15)"
   ]
  },
  {
   "cell_type": "code",
   "execution_count": null,
   "metadata": {
    "collapsed": true
   },
   "outputs": [],
   "source": []
  }
 ],
 "metadata": {
  "kernelspec": {
   "display_name": "Python 3",
   "language": "python",
   "name": "python3"
  },
  "language_info": {
   "codemirror_mode": {
    "name": "ipython",
    "version": 3
   },
   "file_extension": ".py",
   "mimetype": "text/x-python",
   "name": "python",
   "nbconvert_exporter": "python",
   "pygments_lexer": "ipython3",
   "version": "3.6.3"
  }
 },
 "nbformat": 4,
 "nbformat_minor": 2
}
