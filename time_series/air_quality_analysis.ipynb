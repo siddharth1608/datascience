{
 "cells": [
  {
   "cell_type": "markdown",
   "metadata": {},
   "source": [
    "# Time series Analysis - Air Quality #\n"
   ]
  },
  {
   "cell_type": "markdown",
   "metadata": {},
   "source": [
    "<img src=\"https://timedotcom.files.wordpress.com/2016/01/beijing-air-pollution.jpeg\" width=\"300\" height=\"200\"/>"
   ]
  },
  {
   "cell_type": "markdown",
   "metadata": {},
   "source": [
    "#### What's in the dataset? - ####\n",
    "Hourly measurements from an array of 5 metal oxide chemical sensors embedded in an Air Quality Chemical Multisensor Device installed at road-level\n",
    "\n",
    "##### Location - Some city in Italy #####\n",
    "##### Time Period -  March 2004 to February 2005 #####\n",
    "\n",
    "More details about the dataset can be found here - [link](https://archive.ics.uci.edu/ml/datasets/Air+Quality)"
   ]
  },
  {
   "cell_type": "markdown",
   "metadata": {},
   "source": [
    "***"
   ]
  },
  {
   "cell_type": "markdown",
   "metadata": {},
   "source": [
    "**Objective:**\n",
    "\n",
    "Perform analysis on individual features to know their distribution. Also see relation between features. Can we make predictions"
   ]
  },
  {
   "cell_type": "markdown",
   "metadata": {},
   "source": [
    "Before performing analysis on any dataset it is always a good idea to first list what your intuition about the analysis is. It may be incorrect, doesn't matter. The aim of this step is to avoid exploring the whole dataset without any direction.\n",
    "\n",
    "This process is also called as *Hypothesis Generation*."
   ]
  },
  {
   "cell_type": "markdown",
   "metadata": {},
   "source": [
    "**Hypotheses**"
   ]
  },
  {
   "cell_type": "markdown",
   "metadata": {},
   "source": [
    "1. Over time, the temperature must show increasing trend, excluding the seasonal variations\n",
    "2. There would be a increasing trend of Carbon Monoxide(CO) assuming there has been an increase in vehicular emissions between Mar 2004 and Feb 2005\n",
    "3. Level of Pollutants decreases as the day ends"
   ]
  },
  {
   "cell_type": "markdown",
   "metadata": {},
   "source": [
    "***"
   ]
  },
  {
   "cell_type": "markdown",
   "metadata": {},
   "source": [
    "*Import Libraries*"
   ]
  },
  {
   "cell_type": "code",
   "execution_count": 49,
   "metadata": {},
   "outputs": [],
   "source": [
    "import pandas as pd\n",
    "import numpy as np"
   ]
  },
  {
   "cell_type": "code",
   "execution_count": 50,
   "metadata": {},
   "outputs": [],
   "source": [
    "df = pd.read_excel('../data/AirQualityUCI/AirQualityUCI.xlsx')"
   ]
  },
  {
   "cell_type": "code",
   "execution_count": 51,
   "metadata": {},
   "outputs": [
    {
     "name": "stdout",
     "output_type": "stream",
     "text": [
      "Record count 9357\n"
     ]
    }
   ],
   "source": [
    "print('Record count',df.shape[0])"
   ]
  },
  {
   "cell_type": "markdown",
   "metadata": {},
   "source": [
    "*Let's look at the type of each column*"
   ]
  },
  {
   "cell_type": "code",
   "execution_count": 52,
   "metadata": {},
   "outputs": [
    {
     "name": "stdout",
     "output_type": "stream",
     "text": [
      "<class 'pandas.core.frame.DataFrame'>\n",
      "RangeIndex: 9357 entries, 0 to 9356\n",
      "Data columns (total 15 columns):\n",
      "Date             9357 non-null datetime64[ns]\n",
      "Time             9357 non-null object\n",
      "CO(GT)           9357 non-null float64\n",
      "PT08.S1(CO)      9357 non-null float64\n",
      "NMHC(GT)         9357 non-null int64\n",
      "C6H6(GT)         9357 non-null float64\n",
      "PT08.S2(NMHC)    9357 non-null float64\n",
      "NOx(GT)          9357 non-null float64\n",
      "PT08.S3(NOx)     9357 non-null float64\n",
      "NO2(GT)          9357 non-null float64\n",
      "PT08.S4(NO2)     9357 non-null float64\n",
      "PT08.S5(O3)      9357 non-null float64\n",
      "T                9357 non-null float64\n",
      "RH               9357 non-null float64\n",
      "AH               9357 non-null float64\n",
      "dtypes: datetime64[ns](1), float64(12), int64(1), object(1)\n",
      "memory usage: 1.1+ MB\n"
     ]
    }
   ],
   "source": [
    "df.info()"
   ]
  },
  {
   "cell_type": "markdown",
   "metadata": {},
   "source": [
    "All of them are float, except 'Time' which we'll combine with 'Date' field to get a TimeStamp for every record. \n",
    "\n",
    "Combining will help us to see trend at different levels such as hourly, daily and monthly"
   ]
  },
  {
   "cell_type": "code",
   "execution_count": 53,
   "metadata": {},
   "outputs": [
    {
     "data": {
      "text/plain": [
       "0   2004-03-10 18:00:00\n",
       "1   2004-03-10 19:00:00\n",
       "Name: DateTime, dtype: datetime64[ns]"
      ]
     },
     "execution_count": 53,
     "metadata": {},
     "output_type": "execute_result"
    }
   ],
   "source": [
    "df['DateTime'] = df['Date'].astype(str) +' '+ df['Time'].astype(str)\n",
    "df['DateTime'] = pd.to_datetime(df['DateTime'])\n",
    "df['DateTime'].head(2)"
   ]
  },
  {
   "cell_type": "markdown",
   "metadata": {},
   "source": [
    "*Displaying top 2 rows*"
   ]
  },
  {
   "cell_type": "code",
   "execution_count": 54,
   "metadata": {},
   "outputs": [
    {
     "data": {
      "text/html": [
       "<div>\n",
       "<style scoped>\n",
       "    .dataframe tbody tr th:only-of-type {\n",
       "        vertical-align: middle;\n",
       "    }\n",
       "\n",
       "    .dataframe tbody tr th {\n",
       "        vertical-align: top;\n",
       "    }\n",
       "\n",
       "    .dataframe thead th {\n",
       "        text-align: right;\n",
       "    }\n",
       "</style>\n",
       "<table border=\"1\" class=\"dataframe\">\n",
       "  <thead>\n",
       "    <tr style=\"text-align: right;\">\n",
       "      <th></th>\n",
       "      <th>Date</th>\n",
       "      <th>Time</th>\n",
       "      <th>CO(GT)</th>\n",
       "      <th>PT08.S1(CO)</th>\n",
       "      <th>NMHC(GT)</th>\n",
       "      <th>C6H6(GT)</th>\n",
       "      <th>PT08.S2(NMHC)</th>\n",
       "      <th>NOx(GT)</th>\n",
       "      <th>PT08.S3(NOx)</th>\n",
       "      <th>NO2(GT)</th>\n",
       "      <th>PT08.S4(NO2)</th>\n",
       "      <th>PT08.S5(O3)</th>\n",
       "      <th>T</th>\n",
       "      <th>RH</th>\n",
       "      <th>AH</th>\n",
       "      <th>DateTime</th>\n",
       "    </tr>\n",
       "  </thead>\n",
       "  <tbody>\n",
       "    <tr>\n",
       "      <th>0</th>\n",
       "      <td>2004-03-10</td>\n",
       "      <td>18:00:00</td>\n",
       "      <td>2.6</td>\n",
       "      <td>1360.00</td>\n",
       "      <td>150</td>\n",
       "      <td>11.881723</td>\n",
       "      <td>1045.50</td>\n",
       "      <td>166.0</td>\n",
       "      <td>1056.25</td>\n",
       "      <td>113.0</td>\n",
       "      <td>1692.00</td>\n",
       "      <td>1267.50</td>\n",
       "      <td>13.6</td>\n",
       "      <td>48.875001</td>\n",
       "      <td>0.757754</td>\n",
       "      <td>2004-03-10 18:00:00</td>\n",
       "    </tr>\n",
       "    <tr>\n",
       "      <th>1</th>\n",
       "      <td>2004-03-10</td>\n",
       "      <td>19:00:00</td>\n",
       "      <td>2.0</td>\n",
       "      <td>1292.25</td>\n",
       "      <td>112</td>\n",
       "      <td>9.397165</td>\n",
       "      <td>954.75</td>\n",
       "      <td>103.0</td>\n",
       "      <td>1173.75</td>\n",
       "      <td>92.0</td>\n",
       "      <td>1558.75</td>\n",
       "      <td>972.25</td>\n",
       "      <td>13.3</td>\n",
       "      <td>47.700000</td>\n",
       "      <td>0.725487</td>\n",
       "      <td>2004-03-10 19:00:00</td>\n",
       "    </tr>\n",
       "  </tbody>\n",
       "</table>\n",
       "</div>"
      ],
      "text/plain": [
       "        Date      Time  CO(GT)  PT08.S1(CO)  NMHC(GT)   C6H6(GT)  \\\n",
       "0 2004-03-10  18:00:00     2.6      1360.00       150  11.881723   \n",
       "1 2004-03-10  19:00:00     2.0      1292.25       112   9.397165   \n",
       "\n",
       "   PT08.S2(NMHC)  NOx(GT)  PT08.S3(NOx)  NO2(GT)  PT08.S4(NO2)  PT08.S5(O3)  \\\n",
       "0        1045.50    166.0       1056.25    113.0       1692.00      1267.50   \n",
       "1         954.75    103.0       1173.75     92.0       1558.75       972.25   \n",
       "\n",
       "      T         RH        AH            DateTime  \n",
       "0  13.6  48.875001  0.757754 2004-03-10 18:00:00  \n",
       "1  13.3  47.700000  0.725487 2004-03-10 19:00:00  "
      ]
     },
     "execution_count": 54,
     "metadata": {},
     "output_type": "execute_result"
    }
   ],
   "source": [
    "df.head(2)"
   ]
  },
  {
   "cell_type": "markdown",
   "metadata": {},
   "source": [
    "*Let's look at the summary of the values for every column*"
   ]
  },
  {
   "cell_type": "code",
   "execution_count": 55,
   "metadata": {},
   "outputs": [
    {
     "data": {
      "text/html": [
       "<div>\n",
       "<style scoped>\n",
       "    .dataframe tbody tr th:only-of-type {\n",
       "        vertical-align: middle;\n",
       "    }\n",
       "\n",
       "    .dataframe tbody tr th {\n",
       "        vertical-align: top;\n",
       "    }\n",
       "\n",
       "    .dataframe thead th {\n",
       "        text-align: right;\n",
       "    }\n",
       "</style>\n",
       "<table border=\"1\" class=\"dataframe\">\n",
       "  <thead>\n",
       "    <tr style=\"text-align: right;\">\n",
       "      <th></th>\n",
       "      <th>CO(GT)</th>\n",
       "      <th>PT08.S1(CO)</th>\n",
       "      <th>NMHC(GT)</th>\n",
       "      <th>C6H6(GT)</th>\n",
       "      <th>PT08.S2(NMHC)</th>\n",
       "      <th>NOx(GT)</th>\n",
       "      <th>PT08.S3(NOx)</th>\n",
       "      <th>NO2(GT)</th>\n",
       "      <th>PT08.S4(NO2)</th>\n",
       "      <th>PT08.S5(O3)</th>\n",
       "      <th>T</th>\n",
       "      <th>RH</th>\n",
       "      <th>AH</th>\n",
       "    </tr>\n",
       "  </thead>\n",
       "  <tbody>\n",
       "    <tr>\n",
       "      <th>count</th>\n",
       "      <td>9357.000000</td>\n",
       "      <td>9357.000000</td>\n",
       "      <td>9357.000000</td>\n",
       "      <td>9357.000000</td>\n",
       "      <td>9357.000000</td>\n",
       "      <td>9357.000000</td>\n",
       "      <td>9357.000000</td>\n",
       "      <td>9357.000000</td>\n",
       "      <td>9357.000000</td>\n",
       "      <td>9357.000000</td>\n",
       "      <td>9357.000000</td>\n",
       "      <td>9357.000000</td>\n",
       "      <td>9357.000000</td>\n",
       "    </tr>\n",
       "    <tr>\n",
       "      <th>mean</th>\n",
       "      <td>-34.207524</td>\n",
       "      <td>1048.869652</td>\n",
       "      <td>-159.090093</td>\n",
       "      <td>1.865576</td>\n",
       "      <td>894.475963</td>\n",
       "      <td>168.604200</td>\n",
       "      <td>794.872333</td>\n",
       "      <td>58.135898</td>\n",
       "      <td>1391.363266</td>\n",
       "      <td>974.951534</td>\n",
       "      <td>9.776600</td>\n",
       "      <td>39.483611</td>\n",
       "      <td>-6.837604</td>\n",
       "    </tr>\n",
       "    <tr>\n",
       "      <th>std</th>\n",
       "      <td>77.657170</td>\n",
       "      <td>329.817015</td>\n",
       "      <td>139.789093</td>\n",
       "      <td>41.380154</td>\n",
       "      <td>342.315902</td>\n",
       "      <td>257.424561</td>\n",
       "      <td>321.977031</td>\n",
       "      <td>126.931428</td>\n",
       "      <td>467.192382</td>\n",
       "      <td>456.922728</td>\n",
       "      <td>43.203438</td>\n",
       "      <td>51.215645</td>\n",
       "      <td>38.976670</td>\n",
       "    </tr>\n",
       "    <tr>\n",
       "      <th>min</th>\n",
       "      <td>-200.000000</td>\n",
       "      <td>-200.000000</td>\n",
       "      <td>-200.000000</td>\n",
       "      <td>-200.000000</td>\n",
       "      <td>-200.000000</td>\n",
       "      <td>-200.000000</td>\n",
       "      <td>-200.000000</td>\n",
       "      <td>-200.000000</td>\n",
       "      <td>-200.000000</td>\n",
       "      <td>-200.000000</td>\n",
       "      <td>-200.000000</td>\n",
       "      <td>-200.000000</td>\n",
       "      <td>-200.000000</td>\n",
       "    </tr>\n",
       "    <tr>\n",
       "      <th>25%</th>\n",
       "      <td>0.600000</td>\n",
       "      <td>921.000000</td>\n",
       "      <td>-200.000000</td>\n",
       "      <td>4.004958</td>\n",
       "      <td>711.000000</td>\n",
       "      <td>50.000000</td>\n",
       "      <td>637.000000</td>\n",
       "      <td>53.000000</td>\n",
       "      <td>1184.750000</td>\n",
       "      <td>699.750000</td>\n",
       "      <td>10.950000</td>\n",
       "      <td>34.050000</td>\n",
       "      <td>0.692275</td>\n",
       "    </tr>\n",
       "    <tr>\n",
       "      <th>50%</th>\n",
       "      <td>1.500000</td>\n",
       "      <td>1052.500000</td>\n",
       "      <td>-200.000000</td>\n",
       "      <td>7.886653</td>\n",
       "      <td>894.500000</td>\n",
       "      <td>141.000000</td>\n",
       "      <td>794.250000</td>\n",
       "      <td>96.000000</td>\n",
       "      <td>1445.500000</td>\n",
       "      <td>942.000000</td>\n",
       "      <td>17.200000</td>\n",
       "      <td>48.550000</td>\n",
       "      <td>0.976823</td>\n",
       "    </tr>\n",
       "    <tr>\n",
       "      <th>75%</th>\n",
       "      <td>2.600000</td>\n",
       "      <td>1221.250000</td>\n",
       "      <td>-200.000000</td>\n",
       "      <td>13.636091</td>\n",
       "      <td>1104.750000</td>\n",
       "      <td>284.200000</td>\n",
       "      <td>960.250000</td>\n",
       "      <td>133.000000</td>\n",
       "      <td>1662.000000</td>\n",
       "      <td>1255.250000</td>\n",
       "      <td>24.075000</td>\n",
       "      <td>61.875000</td>\n",
       "      <td>1.296223</td>\n",
       "    </tr>\n",
       "    <tr>\n",
       "      <th>max</th>\n",
       "      <td>11.900000</td>\n",
       "      <td>2039.750000</td>\n",
       "      <td>1189.000000</td>\n",
       "      <td>63.741476</td>\n",
       "      <td>2214.000000</td>\n",
       "      <td>1479.000000</td>\n",
       "      <td>2682.750000</td>\n",
       "      <td>339.700000</td>\n",
       "      <td>2775.000000</td>\n",
       "      <td>2522.750000</td>\n",
       "      <td>44.600000</td>\n",
       "      <td>88.725000</td>\n",
       "      <td>2.231036</td>\n",
       "    </tr>\n",
       "  </tbody>\n",
       "</table>\n",
       "</div>"
      ],
      "text/plain": [
       "            CO(GT)  PT08.S1(CO)     NMHC(GT)     C6H6(GT)  PT08.S2(NMHC)  \\\n",
       "count  9357.000000  9357.000000  9357.000000  9357.000000    9357.000000   \n",
       "mean    -34.207524  1048.869652  -159.090093     1.865576     894.475963   \n",
       "std      77.657170   329.817015   139.789093    41.380154     342.315902   \n",
       "min    -200.000000  -200.000000  -200.000000  -200.000000    -200.000000   \n",
       "25%       0.600000   921.000000  -200.000000     4.004958     711.000000   \n",
       "50%       1.500000  1052.500000  -200.000000     7.886653     894.500000   \n",
       "75%       2.600000  1221.250000  -200.000000    13.636091    1104.750000   \n",
       "max      11.900000  2039.750000  1189.000000    63.741476    2214.000000   \n",
       "\n",
       "           NOx(GT)  PT08.S3(NOx)      NO2(GT)  PT08.S4(NO2)  PT08.S5(O3)  \\\n",
       "count  9357.000000   9357.000000  9357.000000   9357.000000  9357.000000   \n",
       "mean    168.604200    794.872333    58.135898   1391.363266   974.951534   \n",
       "std     257.424561    321.977031   126.931428    467.192382   456.922728   \n",
       "min    -200.000000   -200.000000  -200.000000   -200.000000  -200.000000   \n",
       "25%      50.000000    637.000000    53.000000   1184.750000   699.750000   \n",
       "50%     141.000000    794.250000    96.000000   1445.500000   942.000000   \n",
       "75%     284.200000    960.250000   133.000000   1662.000000  1255.250000   \n",
       "max    1479.000000   2682.750000   339.700000   2775.000000  2522.750000   \n",
       "\n",
       "                 T           RH           AH  \n",
       "count  9357.000000  9357.000000  9357.000000  \n",
       "mean      9.776600    39.483611    -6.837604  \n",
       "std      43.203438    51.215645    38.976670  \n",
       "min    -200.000000  -200.000000  -200.000000  \n",
       "25%      10.950000    34.050000     0.692275  \n",
       "50%      17.200000    48.550000     0.976823  \n",
       "75%      24.075000    61.875000     1.296223  \n",
       "max      44.600000    88.725000     2.231036  "
      ]
     },
     "execution_count": 55,
     "metadata": {},
     "output_type": "execute_result"
    }
   ],
   "source": [
    "df.describe()"
   ]
  },
  {
   "cell_type": "markdown",
   "metadata": {},
   "source": [
    "We can see all of them have -200 as the minimum value. This is because the authors of the dataset used -200 to indicate missing values. \n",
    "\n",
    "One naive thought would be to replace them by 0. But be careful, doing so for the T (Temperature) column will change the meaning. We must understand the scale of each column before doing any imputation.\n",
    "\n",
    "Just looking at the summary we can start finding insights:\n",
    "1. NMHC(GT) has mean as negative, and all percentiles as -200, except max. This indicates we barely have values in this column. In a professional setting, we must ask the authors what went wrong\n",
    "while collecting the data for this column."
   ]
  },
  {
   "cell_type": "code",
   "execution_count": 57,
   "metadata": {},
   "outputs": [
    {
     "ename": "NameError",
     "evalue": "name 'plt' is not defined",
     "output_type": "error",
     "traceback": [
      "\u001b[1;31m---------------------------------------------------------------------------\u001b[0m",
      "\u001b[1;31mNameError\u001b[0m                                 Traceback (most recent call last)",
      "\u001b[1;32m<ipython-input-57-263c0bb9a657>\u001b[0m in \u001b[0;36m<module>\u001b[1;34m()\u001b[0m\n\u001b[0;32m      1\u001b[0m \u001b[0mdf\u001b[0m\u001b[1;33m[\u001b[0m\u001b[1;34m'NMHC(GT)'\u001b[0m\u001b[1;33m]\u001b[0m\u001b[1;33m.\u001b[0m\u001b[0mhist\u001b[0m\u001b[1;33m(\u001b[0m\u001b[1;33m)\u001b[0m\u001b[1;33m\u001b[0m\u001b[0m\n\u001b[1;32m----> 2\u001b[1;33m \u001b[0mplt\u001b[0m\u001b[1;33m.\u001b[0m\u001b[0mshow\u001b[0m\u001b[1;33m(\u001b[0m\u001b[1;33m)\u001b[0m\u001b[1;33m\u001b[0m\u001b[0m\n\u001b[0m",
      "\u001b[1;31mNameError\u001b[0m: name 'plt' is not defined"
     ]
    },
    {
     "data": {
      "image/png": "[encoded data removed]",
      "text/plain": [
       "<Figure size 432x288 with 1 Axes>"
      ]
     },
     "metadata": {},
     "output_type": "display_data"
    }
   ],
   "source": [
    "df['NMHC(GT)'].hist()"
   ]
  },
  {
   "cell_type": "markdown",
   "metadata": {},
   "source": [
    "<!DOCTYPE html>\n",
    "<meta charset=\"utf-8\">\n",
    "<html>\n",
    "  <head>\n",
    "    <style>\n",
    "      rect.bordered {\n",
    "        stroke: #E6E6E6;\n",
    "        stroke-width:2px;   \n",
    "      }\n",
    "\n",
    "      text.mono {\n",
    "        font-size: 9pt;\n",
    "        font-family: Consolas, courier;\n",
    "        fill: #aaa;\n",
    "      }\n",
    "\n",
    "      text.axis-workweek {\n",
    "        fill: #000;\n",
    "      }\n",
    "\n",
    "      text.axis-worktime {\n",
    "        fill: #000;\n",
    "      }\n",
    "    </style>\n",
    "    <script src=\"http://d3js.org/d3.v3.js\"></script>\n",
    "  </head>\n",
    "  <body>\n",
    "    <div id=\"chart\"></div>\n",
    "    <div id=\"dataset-picker\">\n",
    "    </div>\n",
    "    <script type=\"text/javascript\">\n",
    "      var margin = { top: 50, right: 0, bottom: 100, left: 30 },\n",
    "          width = 960 - margin.left - margin.right,\n",
    "          height = 430 - margin.top - margin.bottom,\n",
    "          gridSize = Math.floor(width / 24),\n",
    "          legendElementWidth = gridSize*2,\n",
    "          buckets = 9,\n",
    "          colors = [\"#ffffd9\",\"#edf8b1\",\"#c7e9b4\",\"#7fcdbb\",\"#41b6c4\",\"#1d91c0\",\"#225ea8\",\"#253494\",\"#081d58\"], // alternatively colorbrewer.YlGnBu[9]\n",
    "          days = [\"Mo\", \"Tu\", \"We\", \"Th\", \"Fr\", \"Sa\", \"Su\"],\n",
    "          times = [\"1a\", \"2a\", \"3a\", \"4a\", \"5a\", \"6a\", \"7a\", \"8a\", \"9a\", \"10a\", \"11a\", \"12a\", \"1p\", \"2p\", \"3p\", \"4p\", \"5p\", \"6p\", \"7p\", \"8p\", \"9p\", \"10p\", \"11p\", \"12p\"];\n",
    "          datasets = [\"data.tsv\", \"data2.tsv\"];\n",
    "\n",
    "      var svg = d3.select(\"#chart\").append(\"svg\")\n",
    "          .attr(\"width\", width + margin.left + margin.right)\n",
    "          .attr(\"height\", height + margin.top + margin.bottom)\n",
    "          .append(\"g\")\n",
    "          .attr(\"transform\", \"translate(\" + margin.left + \",\" + margin.top + \")\");\n",
    "\n",
    "      var dayLabels = svg.selectAll(\".dayLabel\")\n",
    "          .data(days)\n",
    "          .enter().append(\"text\")\n",
    "            .text(function (d) { return d; })\n",
    "            .attr(\"x\", 0)\n",
    "            .attr(\"y\", function (d, i) { return i * gridSize; })\n",
    "            .style(\"text-anchor\", \"end\")\n",
    "            .attr(\"transform\", \"translate(-6,\" + gridSize / 1.5 + \")\")\n",
    "            .attr(\"class\", function (d, i) { return ((i >= 0 && i <= 4) ? \"dayLabel mono axis axis-workweek\" : \"dayLabel mono axis\"); });\n",
    "\n",
    "      var timeLabels = svg.selectAll(\".timeLabel\")\n",
    "          .data(times)\n",
    "          .enter().append(\"text\")\n",
    "            .text(function(d) { return d; })\n",
    "            .attr(\"x\", function(d, i) { return i * gridSize; })\n",
    "            .attr(\"y\", 0)\n",
    "            .style(\"text-anchor\", \"middle\")\n",
    "            .attr(\"transform\", \"translate(\" + gridSize / 2 + \", -6)\")\n",
    "            .attr(\"class\", function(d, i) { return ((i >= 7 && i <= 16) ? \"timeLabel mono axis axis-worktime\" : \"timeLabel mono axis\"); });\n",
    "\n",
    "      var heatmapChart = function(tsvFile) {\n",
    "        d3.tsv(tsvFile,\n",
    "        function(d) {\n",
    "          return {\n",
    "            day: +d.day,\n",
    "            hour: +d.hour,\n",
    "            value: +d.value\n",
    "          };\n",
    "        },\n",
    "        function(error, data) {\n",
    "          var colorScale = d3.scale.quantile()\n",
    "              .domain([0, buckets - 1, d3.max(data, function (d) { return d.value; })])\n",
    "              .range(colors);\n",
    "\n",
    "          var cards = svg.selectAll(\".hour\")\n",
    "              .data(data, function(d) {return d.day+':'+d.hour;});\n",
    "\n",
    "          cards.append(\"title\");\n",
    "\n",
    "          cards.enter().append(\"rect\")\n",
    "              .attr(\"x\", function(d) { return (d.hour - 1) * gridSize; })\n",
    "              .attr(\"y\", function(d) { return (d.day - 1) * gridSize; })\n",
    "              .attr(\"rx\", 4)\n",
    "              .attr(\"ry\", 4)\n",
    "              .attr(\"class\", \"hour bordered\")\n",
    "              .attr(\"width\", gridSize)\n",
    "              .attr(\"height\", gridSize)\n",
    "              .style(\"fill\", colors[0]);\n",
    "\n",
    "          cards.transition().duration(1000)\n",
    "              .style(\"fill\", function(d) { return colorScale(d.value); });\n",
    "\n",
    "          cards.select(\"title\").text(function(d) { return d.value; });\n",
    "          \n",
    "          cards.exit().remove();\n",
    "\n",
    "          var legend = svg.selectAll(\".legend\")\n",
    "              .data([0].concat(colorScale.quantiles()), function(d) { return d; });\n",
    "\n",
    "          legend.enter().append(\"g\")\n",
    "              .attr(\"class\", \"legend\");\n",
    "\n",
    "          legend.append(\"rect\")\n",
    "            .attr(\"x\", function(d, i) { return legendElementWidth * i; })\n",
    "            .attr(\"y\", height)\n",
    "            .attr(\"width\", legendElementWidth)\n",
    "            .attr(\"height\", gridSize / 2)\n",
    "            .style(\"fill\", function(d, i) { return colors[i]; });\n",
    "\n",
    "          legend.append(\"text\")\n",
    "            .attr(\"class\", \"mono\")\n",
    "            .text(function(d) { return \"≥ \" + Math.round(d); })\n",
    "            .attr(\"x\", function(d, i) { return legendElementWidth * i; })\n",
    "            .attr(\"y\", height + gridSize);\n",
    "\n",
    "          legend.exit().remove();\n",
    "\n",
    "        });  \n",
    "      };\n",
    "\n",
    "      heatmapChart(datasets[0]);\n",
    "      \n",
    "      var datasetpicker = d3.select(\"#dataset-picker\").selectAll(\".dataset-button\")\n",
    "        .data(datasets);\n",
    "\n",
    "      datasetpicker.enter()\n",
    "        .append(\"input\")\n",
    "        .attr(\"value\", function(d){ return \"Dataset \" + d })\n",
    "        .attr(\"type\", \"button\")\n",
    "        .attr(\"class\", \"dataset-button\")\n",
    "        .on(\"click\", function(d) {\n",
    "          heatmapChart(d);\n",
    "        });\n",
    "    </script>\n",
    "  </body>\n",
    "</html>"
   ]
  },
  {
   "cell_type": "code",
   "execution_count": null,
   "metadata": {},
   "outputs": [],
   "source": []
  }
 ],
 "metadata": {
  "kernelspec": {
   "display_name": "Python 3",
   "language": "python",
   "name": "python3"
  },
  "language_info": {
   "codemirror_mode": {
    "name": "ipython",
    "version": 3
   },
   "file_extension": ".py",
   "mimetype": "text/x-python",
   "name": "python",
   "nbconvert_exporter": "python",
   "pygments_lexer": "ipython3",
   "version": "3.6.4"
  }
 },
 "nbformat": 4,
 "nbformat_minor": 2
}
