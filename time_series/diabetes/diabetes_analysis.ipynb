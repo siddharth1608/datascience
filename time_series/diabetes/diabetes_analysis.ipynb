{
 "cells": [
  {
   "cell_type": "code",
   "execution_count": 11,
   "metadata": {},
   "outputs": [],
   "source": [
    "import pandas as pd\n",
    "import numpy as np\n",
    "import seaborn as sn\n",
    "import matplotlib.pyplot as plt"
   ]
  },
  {
   "cell_type": "markdown",
   "metadata": {},
   "source": [
    "Read all patients at once"
   ]
  },
  {
   "cell_type": "code",
   "execution_count": 2,
   "metadata": {},
   "outputs": [],
   "source": [
    "dataframe = pd.DataFrame()\n",
    "for i in range(0,70):\n",
    "    df = pd.read_csv('data/Diabetes-Data/data-01', \n",
    "                   names=['Date','Time','Code','Value'],\n",
    "                   sep='\\t', header=None)\n",
    "    df['patient_id'] = (i+1)\n",
    "    dataframe = dataframe.append(df)"
   ]
  },
  {
   "cell_type": "code",
   "execution_count": 3,
   "metadata": {},
   "outputs": [
    {
     "data": {
      "text/html": [
       "<div>\n",
       "<style scoped>\n",
       "    .dataframe tbody tr th:only-of-type {\n",
       "        vertical-align: middle;\n",
       "    }\n",
       "\n",
       "    .dataframe tbody tr th {\n",
       "        vertical-align: top;\n",
       "    }\n",
       "\n",
       "    .dataframe thead th {\n",
       "        text-align: right;\n",
       "    }\n",
       "</style>\n",
       "<table border=\"1\" class=\"dataframe\">\n",
       "  <thead>\n",
       "    <tr style=\"text-align: right;\">\n",
       "      <th></th>\n",
       "      <th>Date</th>\n",
       "      <th>Time</th>\n",
       "      <th>Code</th>\n",
       "      <th>Value</th>\n",
       "      <th>patient_id</th>\n",
       "    </tr>\n",
       "  </thead>\n",
       "  <tbody>\n",
       "    <tr>\n",
       "      <th>303</th>\n",
       "      <td>06-04-1991</td>\n",
       "      <td>18:00</td>\n",
       "      <td>33</td>\n",
       "      <td>7</td>\n",
       "      <td>5</td>\n",
       "    </tr>\n",
       "    <tr>\n",
       "      <th>158</th>\n",
       "      <td>05-14-1991</td>\n",
       "      <td>7:36</td>\n",
       "      <td>33</td>\n",
       "      <td>9</td>\n",
       "      <td>27</td>\n",
       "    </tr>\n",
       "    <tr>\n",
       "      <th>377</th>\n",
       "      <td>06-13-1991</td>\n",
       "      <td>17:10</td>\n",
       "      <td>62</td>\n",
       "      <td>180</td>\n",
       "      <td>61</td>\n",
       "    </tr>\n",
       "    <tr>\n",
       "      <th>91</th>\n",
       "      <td>05-04-1991</td>\n",
       "      <td>6:50</td>\n",
       "      <td>58</td>\n",
       "      <td>133</td>\n",
       "      <td>7</td>\n",
       "    </tr>\n",
       "    <tr>\n",
       "      <th>769</th>\n",
       "      <td>08-06-1991</td>\n",
       "      <td>8:22</td>\n",
       "      <td>58</td>\n",
       "      <td>101</td>\n",
       "      <td>26</td>\n",
       "    </tr>\n",
       "  </tbody>\n",
       "</table>\n",
       "</div>"
      ],
      "text/plain": [
       "           Date   Time  Code  Value  patient_id\n",
       "303  06-04-1991  18:00    33      7           5\n",
       "158  05-14-1991   7:36    33      9          27\n",
       "377  06-13-1991  17:10    62    180          61\n",
       "91   05-04-1991   6:50    58    133           7\n",
       "769  08-06-1991   8:22    58    101          26"
      ]
     },
     "execution_count": 3,
     "metadata": {},
     "output_type": "execute_result"
    }
   ],
   "source": [
    "dataframe.sample(5)"
   ]
  },
  {
   "cell_type": "markdown",
   "metadata": {},
   "source": [
    "The Code field is deciphered as follows:\n",
    "\n",
    "- 33 = Regular insulin dose\n",
    "- 34 = NPH insulin dose\n",
    "- 35 = UltraLente insulin dose\n",
    "- 48 = Unspecified blood glucose measurement\n",
    "- 57 = Unspecified blood glucose measurement\n",
    "- 58 = Pre-breakfast blood glucose measurement\n",
    "- 59 = Post-breakfast blood glucose measurement\n",
    "- 60 = Pre-lunch blood glucose measurement\n",
    "- 61 = Post-lunch blood glucose measurement\n",
    "- 62 = Pre-supper blood glucose measurement\n",
    "- 63 = Post-supper blood glucose measurement\n",
    "- 64 = Pre-snack blood glucose measurement\n",
    "- 65 = Hypoglycemic symptoms\n",
    "- 66 = Typical meal ingestion\n",
    "- 67 = More-than-usual meal ingestion\n",
    "- 68 = Less-than-usual meal ingestion\n",
    "- 69 = Typical exercise activity\n",
    "- 70 = More-than-usual exercise activity\n",
    "- 71 = Less-than-usual exercise activity\n",
    "- 72 = Unspecified special event"
   ]
  },
  {
   "cell_type": "code",
   "execution_count": 4,
   "metadata": {},
   "outputs": [],
   "source": [
    "REGULAR_INSULIN_DOSE_CD = 33\n",
    "NPH_INSULIN_DOSE_CD = 34\n",
    "ULTRALENTE_INSULIN_DOSE_CD = 35\n",
    "\n",
    "PRE_BRKFAST_BG_CD = 58\n",
    "POST_BRKFAST_BG_CD = 59\n",
    "\n",
    "PRE_LUNCH_BG_CD = 60\n",
    "POST_LUNCH_BG_CD = 61\n",
    "\n",
    "PRE_SUPPER_BG_CD = 62\n",
    "POST_SUPPER_BG_CD = 63\n",
    "\n",
    "PRE_SNACK_BG_CD = 64\n"
   ]
  },
  {
   "cell_type": "code",
   "execution_count": 5,
   "metadata": {},
   "outputs": [],
   "source": [
    "dataframe['TimeStamp'] = pd.to_datetime(dataframe['Date'] + ' ' + dataframe['Time'])"
   ]
  },
  {
   "cell_type": "markdown",
   "metadata": {},
   "source": [
    "Let's see how has been the Regular Insulin dosage on Patient 1"
   ]
  },
  {
   "cell_type": "code",
   "execution_count": 29,
   "metadata": {},
   "outputs": [
    {
     "data": {
      "image/png": "[encoded data removed]",
      "text/plain": [
       "<Figure size 432x288 with 1 Axes>"
      ]
     },
     "metadata": {
      "needs_background": "light"
     },
     "output_type": "display_data"
    },
    {
     "data": {
      "image/png": "[encoded data removed]",
      "text/plain": [
       "<Figure size 432x288 with 1 Axes>"
      ]
     },
     "metadata": {
      "needs_background": "light"
     },
     "output_type": "display_data"
    }
   ],
   "source": [
    "dataframe[(dataframe['patient_id']==1) & \n",
    "          (dataframe['Code']==REGULAR_INSULIN_DOSE_CD)].set_index('TimeStamp')['Value'].resample('W').mean().\\\n",
    "            plot(title='Regular Insulin Dose Trend')\n",
    "\n",
    "plt.show()\n",
    "\n",
    "dataframe[(dataframe['patient_id']==1) & \n",
    "          (dataframe['Code']==PRE_BRKFAST_BG_CD)].set_index('TimeStamp')['Value'].resample('W').mean().\\\n",
    "            plot(title='Pre Lunch Blood glucose levels')\n",
    "\n",
    "\n",
    "plt.show()"
   ]
  },
  {
   "cell_type": "code",
   "execution_count": 30,
   "metadata": {},
   "outputs": [
    {
     "data": {
      "text/plain": [
       "Series([], Name: Value, dtype: int64)"
      ]
     },
     "execution_count": 30,
     "metadata": {},
     "output_type": "execute_result"
    }
   ],
   "source": [
    "dataframe[dataframe['Code']==POST_BRKFAST_BG_CD]['Value']"
   ]
  },
  {
   "cell_type": "code",
   "execution_count": null,
   "metadata": {},
   "outputs": [],
   "source": []
  }
 ],
 "metadata": {
  "kernelspec": {
   "display_name": "Python 3",
   "language": "python",
   "name": "python3"
  },
  "language_info": {
   "codemirror_mode": {
    "name": "ipython",
    "version": 3
   },
   "file_extension": ".py",
   "mimetype": "text/x-python",
   "name": "python",
   "nbconvert_exporter": "python",
   "pygments_lexer": "ipython3",
   "version": "3.6.3"
  }
 },
 "nbformat": 4,
 "nbformat_minor": 2
}
